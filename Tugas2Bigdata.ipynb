{
 "cells": [
  {
   "cell_type": "code",
   "execution_count": 2,
   "metadata": {
    "collapsed": false,
    "scrolled": true
   },
   "outputs": [
    {
     "name": "stdout",
     "output_type": "stream",
     "text": [
      "<pyspark.context.SparkContext object at 0x0000000005E9CF60>\n"
     ]
    }
   ],
   "source": [
    "# Konfigurasi Spark\n",
    "import os\n",
    "import sys\n",
    "\n",
    "# 1. Mengeset variabel yang menyimpan lokasi di mana Spark diinstal\n",
    "spark_path = \"E:\\spark\"\n",
    "\n",
    "# 2. Menentukan environment variable SPARK_HOME\n",
    "os.environ['SPARK_HOME'] = spark_path\n",
    "\n",
    "# 3. Simpan lokasi winutils.exe sebagai environment variable HADOOP_HOME\n",
    "os.environ['HADOOP_HOME'] = spark_path\n",
    "\n",
    "# 4. Lokasi Python yang dijalankan --> punya Anaconda\n",
    "#    Apabila Python yang diinstall hanya Anaconda, maka tidak perlu menjalankan baris ini.\n",
    "os.environ['PYSPARK_PYTHON'] = sys.executable\n",
    "\n",
    "# 5. Konfigurasi path library PySpark\n",
    "sys.path.append(spark_path + \"/bin\")\n",
    "sys.path.append(spark_path + \"/python\")\n",
    "sys.path.append(spark_path + \"/python/pyspark/\")\n",
    "sys.path.append(spark_path + \"/python/lib\")\n",
    "sys.path.append(spark_path + \"/python/lib/pyspark.zip\")\n",
    "sys.path.append(spark_path + \"/python/lib/py4j-0.10.4-src.zip\")\n",
    "\n",
    "# 6. Import library Spark\n",
    "#    Dua library yang WAJIB di-import adalah **SparkContext** dan **SparkConf**.\n",
    "from pyspark import SparkContext\n",
    "from pyspark import SparkConf\n",
    "\n",
    "# Setting konfigurasi (opsional)\n",
    "conf = SparkConf()\n",
    "conf.set(\"spark.executor.memory\", \"2g\")\n",
    "conf.set(\"spark.cores.max\", \"4\")\n",
    "\n",
    "sc = SparkContext(\"local\", conf=conf)\n",
    "#    Apabila berhasil, maka ketika sc di-print akan mengeluarkan nilai <pyspark.context.SparkContext object>\n",
    "print sc"
   ]
  },
  {
   "cell_type": "code",
   "execution_count": 3,
   "metadata": {
    "collapsed": false
   },
   "outputs": [
    {
     "data": {
      "text/plain": [
       "<pyspark.context.SparkContext at 0x5e9cf60>"
      ]
     },
     "execution_count": 3,
     "metadata": {},
     "output_type": "execute_result"
    }
   ],
   "source": [
    "sc"
   ]
  },
  {
   "cell_type": "code",
   "execution_count": 38,
   "metadata": {
    "collapsed": false
   },
   "outputs": [],
   "source": [
    "airlinesPath = \"file:\\\\E:\\\\Flight data\\\\airlines.csv\"\n",
    "airportPath = \"file:\\\\E:\\\\Flight data\\\\airports.csv\"\n",
    "flightPath = \"file:\\\\E:\\\\Flight data\\\\flights.csv\""
   ]
  },
  {
   "cell_type": "code",
   "execution_count": 39,
   "metadata": {
    "collapsed": true
   },
   "outputs": [],
   "source": [
    "airlines=sc.textFile(airlinesPath)"
   ]
  },
  {
   "cell_type": "code",
   "execution_count": 40,
   "metadata": {
    "collapsed": false
   },
   "outputs": [
    {
     "name": "stdout",
     "output_type": "stream",
     "text": [
      "file:\\E:\\Flight data\\airlines.csv MapPartitionsRDD[11] at textFile at NativeMethodAccessorImpl.java:0\n"
     ]
    }
   ],
   "source": [
    "print airlines"
   ]
  },
  {
   "cell_type": "code",
   "execution_count": 41,
   "metadata": {
    "collapsed": false,
    "scrolled": true
   },
   "outputs": [
    {
     "data": {
      "text/plain": [
       "[u'Code,Description',\n",
       " u'\"19031\",\"Mackey International Inc.: MAC\"',\n",
       " u'\"19032\",\"Munz Northern Airlines Inc.: XY\"',\n",
       " u'\"19033\",\"Cochise Airlines Inc.: COC\"',\n",
       " u'\"19034\",\"Golden Gate Airlines Inc.: GSA\"',\n",
       " u'\"19035\",\"Aeromech Inc.: RZZ\"',\n",
       " u'\"19036\",\"Golden West Airlines Co.: GLW\"',\n",
       " u'\"19037\",\"Puerto Rico Intl Airlines: PRN\"',\n",
       " u'\"19038\",\"Air America Inc.: STZ\"',\n",
       " u'\"19039\",\"Swift Aire Lines Inc.: SWT\"',\n",
       " u'\"19040\",\"American Central Airlines: TSF\"',\n",
       " u'\"19041\",\"Valdez Airlines: VEZ\"',\n",
       " u'\"19042\",\"Southeast Alaska Airlines: WEB\"',\n",
       " u'\"19043\",\"Altair Airlines Inc.: AAR\"',\n",
       " u'\"19044\",\"Chitina Air Service: CHI\"',\n",
       " u'\"19045\",\"Marco Island Airways Inc.: MRC\"',\n",
       " u'\"19046\",\"Caribbean Air Services Inc.: OHZ\"',\n",
       " u'\"19047\",\"Sundance Airlines: PRO\"',\n",
       " u'\"19048\",\"Seair Alaska Airlines Inc.: SAI\"',\n",
       " u'\"19049\",\"Southeast Airlines Inc.: SLZ\"',\n",
       " u'\"19050\",\"Alaska Aeronautical Indust.: AAZ\"',\n",
       " u'\"19051\",\"Imperial Airlines Inc.: IMP\"',\n",
       " u'\"19052\",\"Trans Western Airlines Utah: TWA\"',\n",
       " u'\"19053\",\"Wright Airlines Inc.: WRT\"',\n",
       " u'\"19054\",\"Presidential Express: COL\"',\n",
       " u'\"19055\",\"Mississippi Valley Airlines: MVA\"',\n",
       " u'\"19056\",\"Channel Flying Inc.: CHL\"',\n",
       " u'\"19057\",\"Rocky Mountain Airways Inc.: JCZ\"',\n",
       " u'\"19058\",\"Midstate Airlines Inc.: MIS\"',\n",
       " u'\"19059\",\"Sedalia Marshall Boonvl Stg: STG\"',\n",
       " u'\"19060\",\"Inlet Airlines: CKI\"',\n",
       " u'\"19061\",\"Command Airways Inc.: CMD\"',\n",
       " u'\"19062\",\"Emerald Airlines: EMA\"',\n",
       " u'\"19063\",\"Orion Air Inc.: ORI\"',\n",
       " u'\"19064\",\"Pan Am Express: RAN\"',\n",
       " u'\"19065\",\"Air Micronesia Inc.: AJ\"',\n",
       " u'\"19066\",\"Sunbird Inc.: SKI\"',\n",
       " u'\"19067\",\"Wings West Airlines: WWI\"',\n",
       " u'\"19068\",\"Southcentral Air Inc.: AND\"',\n",
       " u'\"19069\",\"Air Cargo Express Inc.: ACG\"',\n",
       " u'\"19070\",\"Associated Aviation Act.: AAA\"',\n",
       " u'\"19071\",\"Antilles Air Boats Inc.: AAB\"',\n",
       " u'\"19072\",\"AAA Airlines: AAE\"',\n",
       " u'\"19073\",\"Argosy Air Lines Inc.: AAL\"',\n",
       " u'\"19074\",\"Air Bahia: ABH\"',\n",
       " u'\"19075\",\"Airbama Incorporated: ABI\"',\n",
       " u'\"19076\",\"Aeronaves Boringuena Inc.: ABO\"',\n",
       " u'\"19077\",\"Alaska Central Airways Inc.: ACA\"',\n",
       " u'\"19078\",\"Island Airlines Hawaii Inc.: ACH\"',\n",
       " u'\"19079\",\"AAA-Action Air Carrier Inc.: ACI\"',\n",
       " u'\"19080\",\"Air Cargo Enterprises Inc.: ACO\"',\n",
       " u'\"19081\",\"Air Chaparral Inc.: ACP\"',\n",
       " u'\"19082\",\"Alamo Commuter Airlines: ACS\"',\n",
       " u'\"19083\",\"Air Central Inc. (1): ACT\"',\n",
       " u'\"19084\",\"Air Central Inc.: ACK\"',\n",
       " u'\"19085\",\"Astec Air East Inc.: AEC\"',\n",
       " u'\"19086\",\"American Flag Airlines Inc.: AFA\"',\n",
       " u'\"19087\",\"Air Cargo America Inc.: AGA\"',\n",
       " u'\"19088\",\"All Island Air: AIA\"',\n",
       " u'\"19089\",\"Air Express Inc.: AIE\"',\n",
       " u'\"19090\",\"Air Mont. Inc.: AIM\"',\n",
       " u'\"19091\",\"Air Indiana: AIN\"',\n",
       " u'\"19092\",\"Air-Lift Associates Inc.: ALE\"',\n",
       " u'\"19093\",\"Brandt Air: ALI\"',\n",
       " u'\"19094\",\"All Seasons Air Pacific: ALL\"',\n",
       " u'\"19095\",\"North American Airlines Inc.: AMA\"',\n",
       " u'\"19096\",\"American Inter-Island Inc.: AMI\"',\n",
       " u'\"19097\",\"Air Nebraska Inc.: ANB\"',\n",
       " u'\"19098\",\"Airways Of New Mexico Inc.: ANM\"',\n",
       " u'\"19099\",\"Metro Air Northeast Vermont: ANO\"',\n",
       " u'\"19100\",\"Air North/Nenana: ANT\"',\n",
       " u'\"19101\",\"Trans New York: AOI\"',\n",
       " u'\"19102\",\"Arizona Pacific Inc.: API\"',\n",
       " u'\"19103\",\"Appalachian Flying Service: APL\"',\n",
       " u'\"19104\",\"Air Polynesia Inc.: APY\"',\n",
       " u'\"19105\",\"Arizona Aero Corp.: ARI\"',\n",
       " u'\"19106\",\"Arnold Aviation: ARN\"',\n",
       " u'\"19107\",\"Air Oregon: ARO\"',\n",
       " u'\"19108\",\"Arrowhead Airways Inc.: ARR\"',\n",
       " u'\"19109\",\"Amistad Airlines: ASD\"',\n",
       " u'\"19110\",\"Alpine Air Services Inc.: ASI\"',\n",
       " u'\"19111\",\"Asap Air Inc.: ASP\"',\n",
       " u'\"19112\",\"Astro Airways: AST\"',\n",
       " u'\"19113\",\"Air Atlantic Airlines Inc.: ATN\"',\n",
       " u'\"19114\",\"Pacific National Airways: ATO\"',\n",
       " u'\"19115\",\"Atlantis Airlines Inc.: ATS\"',\n",
       " u'\"19116\",\"Aerotransit Inc.: ATT\"',\n",
       " u'\"19117\",\"Air Carolina: ATX\"',\n",
       " u'\"19118\",\"Air Vectors Airways: AVA\"',\n",
       " u'\"19119\",\"Aero Virgin Islands Corp.: AVI\"',\n",
       " u'\"19120\",\"Aviation Services: AVS\"',\n",
       " u'\"19121\",\"Southern Jersey Airways: AVZ\"',\n",
       " u'\"19122\",\"Business Aircraft Corp.: BAC\"',\n",
       " u'\"19123\",\"Brennan & Hargreaves Inc.: BAH\"',\n",
       " u'\"19124\",\"Bankair Inc.: BAK\"',\n",
       " u'\"19125\",\"Bard-Air Corp.: BAR\"',\n",
       " u'\"19126\",\"Baja Cortez Airlines: BCA\"',\n",
       " u'\"19127\",\"Bennington Aviation Inc.: BEN\"',\n",
       " u'\"19128\",\"Beyer Aviation: BEY\"',\n",
       " u'\"19129\",\"Blackhawk Airways Inc.: BHK\"',\n",
       " u'\"19130\",\"Bighorn Airways Inc.: BHO\"',\n",
       " u'\"19131\",\"Birchwood Air Service: BIR\"',\n",
       " u'\"19132\",\"Bremerton Aviation Inc.: BMT\"',\n",
       " u'\"19133\",\"Boise Air Service: BOA\"',\n",
       " u'\"19134\",\"Brower Airways Inc.: BRO\"',\n",
       " u'\"19135\",\"Burlington Airways Inc.: BUR\"',\n",
       " u'\"19136\",\"Coleman Air Transport: CAC\"',\n",
       " u'\"19137\",\"Crawford Aviation Inc.: CAI\"',\n",
       " u'\"19138\",\"C & M Airlines: CAM\"',\n",
       " u'\"19139\",\"Metro Air Northeast N Y: CAP\"',\n",
       " u'\"19140\",\"Catalina Airlines Inc.: CAT\"',\n",
       " u'\"19141\",\"Air Virginia: CAV\"',\n",
       " u'\"19142\",\"Carriba Air Inc.: CBA\"',\n",
       " u'\"19143\",\"Cen-Tex Airlines Inc.: CEN\"',\n",
       " u'\"19144\",\"Century Airlines (Cal): CET\"',\n",
       " u'\"19145\",\"Chandler Flyer: CHD\"',\n",
       " u'\"19146\",\"Charter Airlines: CHE\"',\n",
       " u'\"19147\",\"Hammonds Commuter Air Serv.: CHF\"',\n",
       " u'\"19148\",\"Choi Aviation Inc.: CHO\"',\n",
       " u'\"19149\",\"Christman Air System: CHS\"',\n",
       " u'\"19150\",\"Cal Sierra Airlines: CIS\"',\n",
       " u'\"19151\",\"Centennial Airlines: CNN\"',\n",
       " u'\"19152\",\"Cotton Belt Aviation Inc.: COB\"',\n",
       " u'\"19153\",\"Coker Aviation Inc.: COK\"',\n",
       " u'\"19154\",\"Commutair: COM\"',\n",
       " u'\"19155\",\"Coral Air Inc.: COR\"',\n",
       " u'\"19156\",\"Cosmopolitan Comm. Airline: COS\"',\n",
       " u'\"19157\",\"Southeastern Commuter: COT\"',\n",
       " u'\"19158\",\"Courtesy Air Service Inc.: COU\"',\n",
       " u'\"19159\",\"Capitol Air Lines: CPA\"',\n",
       " u'\"19160\",\"Coastal Plains Commuter Inc.: CPC\"',\n",
       " u'\"19161\",\"Commuter Airlines: CRA\"',\n",
       " u'\"19162\",\"Crown Aviaiton Inc.: CRN\"',\n",
       " u'\"19163\",\"Crown Airways Inc.: CRO\"',\n",
       " u'\"19164\",\"Crested Butte Air Service: CRT\"',\n",
       " u'\"19165\",\"Catskill Airways Inc.: CSK\"',\n",
       " u'\"19166\",\"Century Airlines: CTA\"',\n",
       " u'\"19167\",\"Cothron Aviation: CTH\"',\n",
       " u'\"19168\",\"Catalina-Vegas Airlines: CVA\"',\n",
       " u'\"19169\",\"Danbury Airlines: DAN\"',\n",
       " u'\"19170\",\"Downeast Airlines Inc.: DEA\"',\n",
       " u'\"19171\",\"Decatur Aviation: DEC\"',\n",
       " u'\"19172\",\"DHL Airlines Inc.: DHL\"',\n",
       " u'\"19173\",\"Dickman Aviation Services: DIC\"',\n",
       " u'\"19174\",\"Desert Pacific Airways: DPA\"',\n",
       " u'\"19175\",\"Desert Pacific Airlines Inc.: DPI\"',\n",
       " u'\"19176\",\"Desert Airlines: DST\"',\n",
       " u'\"19177\",\"Executive Aviation Inc.: EAI\"',\n",
       " u'\"19178\",\"Eastern Caribbean Airways: EAS\"',\n",
       " u'\"19179\",\"Eastern Carolina Aviation: ECI\"',\n",
       " u'\"19180\",\"Ede Aire: EDE\"',\n",
       " u'\"19181\",\"Executive Four Winds: EFA\"',\n",
       " u'\"19182\",\"Eagle Commuter Airlines Inc.: EGL\"',\n",
       " u'\"19183\",\"East Hampton Aire Inc.: EHA\"',\n",
       " u'\"19184\",\"East. Indiana Aviation Sale: EIA\"',\n",
       " u'\"19185\",\"Air Pacific Inc.: EKA\"',\n",
       " u'\"19186\",\"Erie Airways Inc.: ERI\"',\n",
       " u'\"19187\",\"Empire Aero Service: ERO\"',\n",
       " u'\"19188\",\"Evanston Aviation: EVA\"',\n",
       " u'\"19189\",\"Federal Armored Service Inc.: FAR\"',\n",
       " u'\"19190\",\"Young Flying Service: FBI\"',\n",
       " u'\"19191\",\"Southern Airlines Inc.: FCA\"',\n",
       " u'\"19192\",\"Florida Airlines Inc.: FDA\"',\n",
       " u'\"19193\",\"Freedom Airlines Inc.: FDM\"',\n",
       " u'\"19194\",\"Flamenco Airways Inc.: FLM\"',\n",
       " u'\"19195\",\"Ford-Aire Inc.: FOR\"',\n",
       " u'\"19196\",\"Foster Aviation: FOS\"',\n",
       " u'\"19197\",\"Skycraft Inc.: FVA\"',\n",
       " u'\"19198\",\"Far West Airlines: FWA\"',\n",
       " u'\"19199\",\"General Aviation Inc.: GAS\"',\n",
       " u'\"19200\",\"Gromer Aviation Inc.: GAV\"',\n",
       " u'\"19201\",\"Central States Airline: GBA\"',\n",
       " u'\"19202\",\"Golden Carriage Aire: GCA\"',\n",
       " u'\"19203\",\"Midway Commuter: GCS\"',\n",
       " u'\"19204\",\"Green Hills Aviation Ltd.: GHA\"',\n",
       " u'\"19205\",\"Green Mountain Airlines Ltd.: GMA\"',\n",
       " u'\"19206\",\"Copper State Airlines: GOF\"',\n",
       " u'\"19207\",\"Isle Royale Seaplane Serv.: GRO\"',\n",
       " u'\"19208\",\"Golden South Airlines Inc.: GSL\"',\n",
       " u'\"19209\",\"Gull Air Inc.: GUL\"',\n",
       " u'\"19210\",\"Gunnel Aviation Inc.: GUN\"',\n",
       " u'\"19211\",\"Ross Aviation Inc.: GWE\"',\n",
       " u'\"19212\",\"Heussler Air Service Corp: HEU\"',\n",
       " u'\"19213\",\"Hensley Flying Service Inc.: HFS\"',\n",
       " u'\"19214\",\"Long Island Airlines: HMZ\"',\n",
       " u'\"19215\",\"Holiday Airlines Inc.: HOL\"',\n",
       " u'\"19216\",\"Iowa Airlines: HOR\"',\n",
       " u'\"19217\",\"Pacific Coast Airlines: HPZ\"',\n",
       " u'\"19218\",\"Trans-National Airlines Haw: HRA\"',\n",
       " u'\"19219\",\"Scenic Airlines Inc.: HSZ\"',\n",
       " u'\"19220\",\"Skystream Airlines: HUB\"',\n",
       " u'\"19221\",\"Hawking Corporation: HWK\"',\n",
       " u'\"19222\",\"Hyannis Aviation: HYA\"',\n",
       " u'\"19223\",\"Iowa City Flying Service: ICF\"',\n",
       " u'\"19224\",\"Idee Industries Inc.: III\"',\n",
       " u'\"19225\",\"Inland Empire Airlines Inc.: INA\"',\n",
       " u'\"19226\",\"Indiana Airways Inc. (Pa): IND\"',\n",
       " u'\"19227\",\"Indo-Pacific International: IPI\"',\n",
       " u'\"19228\",\"Island Airlines: ISL\"',\n",
       " u'\"19229\",\"Sunbelt Airlines Inc.: JAM\"',\n",
       " u'\"19230\",\"Air Chico: JCM\"',\n",
       " u'\"19231\",\"Jer-Don Air: JER\"',\n",
       " u'\"19232\",\"Knight Airlines Inc.: KAI\"',\n",
       " u'\"19233\",\"Key Airlines: KEE\"',\n",
       " u'\"19234\",\"Crown Air: KWZ\"',\n",
       " u'\"19235\",\"Chaparral Airlines Inc.: KXZ\"',\n",
       " u'\"19236\",\"Lancer Aviation Inc.: LAN\"',\n",
       " u'\"19237\",\"Lawrence Aviation: LAW\"',\n",
       " u'\"19238\",\"Havasu Airlines: LHA\"',\n",
       " u'\"19239\",\"Lakeland Aviation: LLA\"',\n",
       " u'\"19240\",\"Aero Commuter: LOS\"',\n",
       " u'\"19241\",\"Las Vegas Airlines: LVA\"',\n",
       " u'\"19242\",\"Magum Airlines: MAG\"',\n",
       " u'\"19243\",\"The Maui Commuter: MAI\"',\n",
       " u'\"19244\",\"Marshall\\'s Air Inc.: MAR\"',\n",
       " u'\"19245\",\"Maxair Inc.: MAX\"',\n",
       " u'\"19246\",\"Mid Continental Airlines In: MCO\"',\n",
       " u'\"19247\",\"Metro Airlines: MDU\"',\n",
       " u'\"19248\",\"Metroplex Airlines: MET\"',\n",
       " u'\"19249\",\"Midway Aviation Inc.: MIY\"',\n",
       " u'\"19250\",\"Miller Air Transportersinc: MLL\"',\n",
       " u'\"19251\",\"Ocean Airways Inc.: MMH\"',\n",
       " u'\"19252\",\"Cumberland Airlines: MNZ\"',\n",
       " u'\"19253\",\"Merrimack Aviation Inc.: MRR\"',\n",
       " u'\"19254\",\"Midwest Aviation: MST\"',\n",
       " u'\"19255\",\"Arkansas Traveler Airline: MTA\"',\n",
       " u'\"19256\",\"Metroflight Airlines: MTR\"',\n",
       " u'\"19257\",\"National Air Commuter Inc.: NAC\"',\n",
       " u'\"19258\",\"New Born Wings Inc.: NEB\"',\n",
       " u'\"19259\",\"Nor East Commuter Airlines: NEC\"',\n",
       " u'\"19260\",\"Nevada Airlines: NEV\"',\n",
       " u'\"19261\",\"Northern Eagle Airways Inc.: NGL\"',\n",
       " u'\"19262\",\"Newair Flight Inc.: NHA\"',\n",
       " u'\"19263\",\"N. J. Merrimack Airlines: NJA\"',\n",
       " u'\"19264\",\"E. J. A. Newport Inc.: NPT\"',\n",
       " u'\"19265\",\"Northaire: NTH\"',\n",
       " u'\"19266\",\"Lake State Airways: NUM\"',\n",
       " u'\"19267\",\"New York Helicopter Corp.: NYH\"',\n",
       " u'\"19268\",\"Harbor Airlines Inc.: OAK\"',\n",
       " u'\"19269\",\"Ocean Reef Airways Inc.: OCR\"',\n",
       " u'\"19270\",\"Offshore Logistics: OFF\"',\n",
       " u'\"19271\",\"Omaha Aviation: OHA\"',\n",
       " u'\"19272\",\"Corporate Air Inc.: OIZ\"',\n",
       " u'\"19273\",\"Omak Aviation Airlines: OMK\"',\n",
       " u'\"19274\",\"Omni Pacific Airline: OMN\"',\n",
       " u'\"19275\",\"Sun Aire Lines: OOZ\"',\n",
       " u'\"19276\",\"Air Kentucky Air Lines: OWS\"',\n",
       " u'\"19277\",\"Permian Airways Inc.: PAI\"',\n",
       " u'\"19278\",\"Provincetown Boston: PBA\"',\n",
       " u'\"19279\",\"Piasa Commuter Airlines: PCA\"',\n",
       " u'\"19280\",\"Trans Southern Airways: PDA\"',\n",
       " u'\"19281\",\"Pearson Aircraft: PEA\"',\n",
       " u'\"19282\",\"Air Pennsylvania: PER\"',\n",
       " u'\"19283\",\"Petro Aviation Corp.: PET\"',\n",
       " u'\"19284\",\"Phillips Airlines: PHL\"',\n",
       " u'\"19285\",\"Phoenix Airlines: PHX\"',\n",
       " u'\"19286\",\"Pacific Island Airways: PIA\"',\n",
       " u'\"19287\",\"Planes Inc.: PLA\"',\n",
       " u'\"19288\",\"Polar Airways Inc.: PLZ\"',\n",
       " u'\"19289\",\"Pacific Missionary Aviation: PMA\"',\n",
       " u'\"19290\",\"Pioneer Airways: PNR\"',\n",
       " u'\"19291\",\"Pocono Airlines Inc.: POC\"',\n",
       " u'\"19292\",\"Pompano Airways: POM\"',\n",
       " u'\"19293\",\"Ponderosa Aviation Inc.: PON\"',\n",
       " u'\"19294\",\"Princeton Aviation Corp: PRA\"',\n",
       " u'\"19295\",\"Pro Air Services: PRR\"',\n",
       " u'\"19296\",\"Precision Valley Aviation: PVA\"',\n",
       " u'\"19297\",\"Bar Harbor Airways: QOZ\"',\n",
       " u'\"19298\",\"Royal-Air Ltd.: RAL\"',\n",
       " u'\"19299\",\"Realwest Airlines: REA\"',\n",
       " u'\"19300\",\"Aerosun International Airlines Inc.: RED\"',\n",
       " u'\"19301\",\"Royal Hawaiian Airways Inc.: RHA\"',\n",
       " u'\"19302\",\"Richardson Aviation: RIC\"',\n",
       " u'\"19303\",\"Indiana Airways Inc. (Reid: RID\"',\n",
       " u'\"19304\",\"Rio Airways Inc.: RIO\"',\n",
       " u'\"19305\",\"Riverside Air Service: RIV\"',\n",
       " u'\"19306\",\"Michigan Airways Inc.: RJS\"',\n",
       " u'\"19307\",\"Roederer Aviation Inc.: ROE\"',\n",
       " u'\"19308\",\"Royal American Airways Inc.: ROY\"',\n",
       " u'\"19309\",\"Air Rovers Inc.: RWG\"',\n",
       " u'\"19310\",\"Sajen Air Inc.: SAJ\"',\n",
       " u'\"19311\",\"Samoan Airlines Inc.: SAM\"',\n",
       " u'\"19312\",\"Air Cortez International: SAS\"',\n",
       " u'\"19313\",\"Air Americana: SAX\"',\n",
       " u'\"19314\",\"Saber Aviation Inc.: SBA\"',\n",
       " u'\"19315\",\"Suburban Airlines: SBN\"',\n",
       " u'\"19316\",\"Seaco Airlines Inc.: SCO\"',\n",
       " u'\"19317\",\"Skyline Airlines: SCT\"',\n",
       " u'\"19318\",\"South Coast Airways: SCY\"',\n",
       " u'\"19319\",\"Semo Aviation Inc.: SEM\"',\n",
       " u'\"19320\",\"Stahmannfarms Inc.: SFI\"',\n",
       " u'\"19321\",\"Sfo Helicopter Airlines Inc.: SFO\"',\n",
       " u'\"19322\",\"Sierra Flite Service Inc.: SFS\"',\n",
       " u'\"19323\",\"Shasta Air Inc.: SHS\"',\n",
       " u'\"19324\",\"Shavano Air Inc.: SHV\"',\n",
       " u'\"19325\",\"Silver State Airlines: SIA\"',\n",
       " u'\"19326\",\"San Juan Airlines Inc.: SJA\"',\n",
       " u'\"19327\",\"Bas Airlines: SKL\"',\n",
       " u'\"19328\",\"Scheduled Skyways: SKM\"',\n",
       " u'\"19329\",\"Stopher Mechanical Inc.: SMC\"',\n",
       " u'\"19330\",\"Gelco Courier Services Inc.: SNC\"',\n",
       " u'\"19331\",\"Shawnee Airlines: SNE\"',\n",
       " u'\"19332\",\"Mall Airways Inc.: SOA\"',\n",
       " u'\"19333\",\"Soonair Lines Inc.: SOL\"',\n",
       " u'\"19334\",\"Springfield Air Service: SPF\"',\n",
       " u'\"19335\",\"Sterling Air Service: SRL\"',\n",
       " u'\"19336\",\"Southern Seaplane: SSP\"',\n",
       " u'\"19337\",\"Sierra Express Inc.: SSS\"',\n",
       " u'\"19338\",\"Seaplane Shuttle Transport: SST\"',\n",
       " u'\"19339\",\"Trans East International: STF\"',\n",
       " u'\"19340\",\"Star Aviation Corporation: STR\"',\n",
       " u'\"19341\",\"Sun International Airways: SUI\"',\n",
       " u'\"19342\",\"Sunbelt: SUT\"',\n",
       " u'\"19343\",\"Sun Valley Airlines: SVL\"',\n",
       " u'\"19344\",\"Sunwest Airlines: SWA\"',\n",
       " u'\"19345\",\"Air Colorado: TAC\"',\n",
       " u'\"19346\",\"Tejas Airlines Inc.: TAL\"',\n",
       " u'\"19347\",\"Yosemite Airlines Inc.: TAS\"',\n",
       " u'\"19348\",\"Trans Catalina Airlines: TCA\"',\n",
       " u'\"19349\",\"Oceanair Line: TCE\"',\n",
       " u'\"19350\",\"Trans California Airlines: TCI\"',\n",
       " u'\"19351\",\"Trans-Central Airlines Inc.: TCL\"',\n",
       " u'\"19352\",\"Trans-Colorado Airlines: TCO\"',\n",
       " u'\"19353\",\"Tennessee Airways Inc.: TEN\"',\n",
       " u'\"19354\",\"Terre Haute Air Commuter: TER\"',\n",
       " u'\"19355\",\"Thorson Aviation: THO\"',\n",
       " u'\"19356\",\"Trans Air Inc.: TIA\"',\n",
       " u'\"19357\",\"Skyfreight: TIS\"',\n",
       " u'\"19358\",\"Trans Mo Airlines: TMA\"',\n",
       " u'\"19359\",\"Transtate Aviation: TNS\"',\n",
       " u'\"19360\",\"Trans Pennsylvania Airlines: TRP\"',\n",
       " u'\"19361\",\"Trans Sierra Airlines Inc.: TSI\"',\n",
       " u'\"19362\",\"Tulsair Beechcraft Inc.: TUL\"',\n",
       " u'\"19363\",\"Temsco Airlines: TYE\"',\n",
       " u'\"19364\",\"Universal Airways Inc.: UAI\"',\n",
       " u'\"19365\",\"Air U.S.: USA\"',\n",
       " u'\"19366\",\"Vagabond Aviation Inc.: VAG\"',\n",
       " u'\"19367\",\"Britt Airlines Inc.: VER\"',\n",
       " u'\"19368\",\"Viking Express: VIG\"',\n",
       " u'\"19369\",\"Vale International Airlines: VIN\"',\n",
       " u'\"19370\",\"Valley Airlines: VLY\"',\n",
       " u'\"19371\",\"Air East Airlines: WAC\"',\n",
       " u'\"19372\",\"Walker\\'s International: WCA\"',\n",
       " u'\"19373\",\"Mountainwest Airlines: WCI\"',\n",
       " u'\"19374\",\"Western Star Airlines Inc.: WES\"',\n",
       " u'\"19375\",\"Western Charter Inc.: WET\"',\n",
       " u'\"19376\",\"Wheeler Airlines: WFS\"',\n",
       " u'\"19377\",\"Wisc Air: WIA\"',\n",
       " u'\"19378\",\"Will\\'s Air: WIL\"',\n",
       " u'\"19379\",\"Wings Airways: WNG\"',\n",
       " u'\"19380\",\"Mcphillips Flying Service: ZFZ\"',\n",
       " u'\"19381\",\"Air New Mexico: ZIA\"',\n",
       " u'\"19382\",\"Winnipesaukee Aviation Inc.: ZMZ\"',\n",
       " u'\"19383\",\"Skyway Aviation Inc.: ZYZ\"',\n",
       " u'\"19384\",\"P.S. Air Freight Inc.: PSA\"',\n",
       " u'\"19385\",\"Reeve Aleutian Airways Inc.: RV (1)\"',\n",
       " u'\"19386\",\"Northwest Airlines Inc.: NW\"',\n",
       " u'\"19387\",\"Wien Air Alaska Inc.: WC\"',\n",
       " u'\"19388\",\"Southern Airways: FTI\"',\n",
       " u'\"19389\",\"Air Florida Inc.: QH\"',\n",
       " u'\"19390\",\"Air California Inc.: OC\"',\n",
       " u'\"19391\",\"Pacific Southwest Airlines: PS (1)\"',\n",
       " u'\"19392\",\"Rich International Airways: RIQ\"',\n",
       " u'\"19393\",\"Southwest Airlines Co.: WN\"',\n",
       " u'\"19394\",\"Mid-South Aviation Inc.: VL\"',\n",
       " u'\"19395\",\"Mid-South Aviation Inc. (1): RCA\"',\n",
       " u'\"19396\",\"Sky West Aviation Inc.: QG\"',\n",
       " u'\"19397\",\"Republic Airlines Inc.: RC\"',\n",
       " u'\"19398\",\"Dauphin Island Airways: DAU\"',\n",
       " u'\"19399\",\"New York Air Inc.: NY\"',\n",
       " u'\"19400\",\"Global International Airways Corp.: GIQ\"',\n",
       " u'\"19401\",\"Colgan Airways Inc.: CJ\"',\n",
       " u'\"19402\",\"Overseas National Airways: UNQ\"',\n",
       " u'\"19403\",\"Flight International: PTQ\"',\n",
       " u'\"19404\",\"Academy Airlines: ACD\"',\n",
       " u'\"19405\",\"Check-Air Inc.: ACL\"',\n",
       " u'\"19406\",\"Transwest Air Express: ACW\"',\n",
       " u'\"19407\",\"Airgo Inc.: AIG\"',\n",
       " u'\"19408\",\"American Air Transport: AMT\"',\n",
       " u'\"19409\",\"Bo-S-Aire Airlines Inc.: BOI\"',\n",
       " u'\"19410\",\"Combs Airways Inc.: CMB\"',\n",
       " u'\"19411\",\"Summit Airlines Inc.: DUZ\"',\n",
       " u'\"19412\",\"Eagle Aviation Inc.: EEZ\"',\n",
       " u'\"19413\",\"Falwell Aviation Inc.: FAA\"',\n",
       " u'\"19414\",\"Falcon Airways Inc.: FAC\"',\n",
       " u'\"19415\",\"Pinehurst Airlines Inc.: PHR\"',\n",
       " u'\"19416\",\"Great Western Airlines Inc.: ROS\"',\n",
       " u'\"19417\",\"Air Freight Express: RRT\"',\n",
       " u'\"19418\",\"S. S. Airways Inc.: SSA\"',\n",
       " u'\"19419\",\"Aero Union Corp: XAA\"',\n",
       " u'\"19420\",\"Air Express International Airlines: XAC\"',\n",
       " u'\"19421\",\"Central American International: XAJ\"',\n",
       " u'\"19422\",\"Michigan Peninsula Airways: XAT\"',\n",
       " u'\"19423\",\"WTC Airlines: XBF\"',\n",
       " u'\"19424\",\"Profit Airlines Inc.: XBH\"',\n",
       " u'\"19425\",\"CF Air Freight: XBI\"',\n",
       " u'\"19426\",\"International Air Service: XBJ\"',\n",
       " u'\"19427\",\"Aeronaves De Puerto Rico: XBQ\"',\n",
       " u'\"19428\",\"Allstates Air Cargo Inc.: XBR\"',\n",
       " u'\"19429\",\"Cam Air International Inc.: XAQ\"',\n",
       " u'\"19430\",\"Purolator Sky Courier Inc.: XAZ\"',\n",
       " u'\"19431\",\"Circle Airfreight Corp.: XBP\"',\n",
       " u'\"19432\",\"Pacific Alaska Airlines Inc.: XBT\"',\n",
       " u'\"19433\",\"Icb International Airlines: XBX\"',\n",
       " u'\"19434\",\"Cohlmia Aviation: XAM\"',\n",
       " u'\"19435\",\"Amerford Airways Inc.: XAE\"',\n",
       " u'\"19436\",\"Astro-Wing Airlines Inc.: XAF\"',\n",
       " u'\"19437\",\"Ball Brothers Inc.: XAG\"',\n",
       " u'\"19438\",\"Burlington Northern Inc.: XAI\"',\n",
       " u'\"19439\",\"Century Airlines Inc.: XAK\"',\n",
       " u'\"19440\",\"Dallas Flight Center: XAO\"',\n",
       " u'\"19441\",\"Jet Way Inc.: XAR\"',\n",
       " u'\"19442\",\"Klondike Air Inc.: XAS\"',\n",
       " u'\"19443\",\"Pat Air: XAY\"',\n",
       " u'\"19444\",\"Phh Air Inc.: XBM\"',\n",
       " u'\"19445\",\"Flight Line Inc.: XAU\"',\n",
       " u'\"19446\",\"Viking International Airlines Inc.: CGL\"',\n",
       " u'\"19447\",\"Capitol International Inc.: CL\"',\n",
       " u'\"19448\",\"Air Caravane Inc.: AEQ\"',\n",
       " u'\"19449\",\"Argo S. A.: AGQ\"',\n",
       " u'\"19450\",\"Norontair: AIQ\"',\n",
       " u'\"19451\",\"Alberta Northern Airlines: ALQ\"',\n",
       " u'\"19452\",\"Aviacion Y Comercio S.A.: AO\"',\n",
       " u'\"19453\",\"Air Bvi Limited: BLQ\"',\n",
       " u'\"19454\",\"Spantax S. A.: BXQ\"',\n",
       " u'\"19455\",\"Dan Air Services: DA\"',\n",
       " u'\"19456\",\"Maersk Air I/S: DM\"',\n",
       " u'\"19457\",\"Aerolineas Dominicanas S A: DOQ\"',\n",
       " u'\"19458\",\"Caribwest Airways Ltd.: DQQ\"',\n",
       " u'\"19459\",\"Execaire Aviation Ltd.: EBQ\"',\n",
       " u'\"19460\",\"Aero Trades (Western) Ltd.: ERQ\"',\n",
       " u'\"19461\",\"Fast Air Carrier Ltd. (1): FAQ\"',\n",
       " u'\"19462\",\"Business Flights Ltd.: HIQ\"',\n",
       " u'\"19463\",\"Tar Airlines: HRQ\"',\n",
       " u'\"19464\",\"Transavia Holland B. V.: HVQ\"',\n",
       " u'\"19465\",\"Iscargo Hf: ICQ\"',\n",
       " u'\"19466\",\"Tradewinds Airways Ltd.: IKQ\"',\n",
       " u'\"19467\",\"Aerlinte Eireann Teoranta: IN\"',\n",
       " u'\"19468\",\"Iran National Airlines Corp: IR\"',\n",
       " u'\"19469\",\"Inair: IXQ\"',\n",
       " u'\"19470\",\"Allarco Developments Ltd.: JXQ\"',\n",
       " u'\"19471\",\"Transmeridian Air Cargo Ltd.: KKQ\"',\n",
       " u'\"19472\",\"Kelowna Flightcraft Air Cha: KWQ\"',\n",
       " u'\"19473\",\"Liat (1974) Limited: LIQ\"',\n",
       " u'\"19474\",\"Millardair Limited: MAQ\"',\n",
       " u'\"19475\",\"Montana Austria Flugetrieb: MGQ\"',\n",
       " u'\"19476\",\"P.N. Merpati Nusantara Air.: MZ\"',\n",
       " u'\"19477\",\"North Cariboo Flying Serv.: NFQ\"',\n",
       " u'\"19478\",\"Norcanair: NKQ\"',\n",
       " u'\"19479\",\"Northward Airlines Ltd.: NN\"',\n",
       " u'\"19480\",\"North Coast Air Services: NSQ\"',\n",
       " u'\"19481\",\"National Aviation Consult.: NTQ\"',\n",
       " u'\"19482\",\"Air Niugini: NUQ\"',\n",
       " u'\"19483\",\"Nunasi-Central Airlines Ltd.: ONQ\"',\n",
       " u'\"19484\",\"Ontario Worldair Limited: OWQ\"',\n",
       " u'\"19485\",\"Pem-Air Limited: PD (1)\"',\n",
       " u'\"19486\",\"Eastern Provincial Airways: PV\"',\n",
       " u'\"19487\",\"Pacific Western Airlines: PW\"',\n",
       " u'\"19488\",\"Inter-Quebec (Intair): QB\"',\n",
       " u'\"19489\",\"Syrian Arab Airlines: RB\"',\n",
       " u'\"19490\",\"Aerotransportes Entre Rios: RSQ\"',\n",
       " u'\"19491\",\"Redcoat Air Cargo Limited: RY\"',\n",
       " u'\"19492\",\"Skycharter (Malton) Ltd.: SJQ\"',\n",
       " u'\"19493\",\"Superior Airways Limited: SSQ\"',\n",
       " u'\"19494\",\"Belize Airways Limited: ST\"',\n",
       " u'\"19495\",\"Skycraft Air Transport Inc.: STQ\"',\n",
       " u'\"19496\",\"Trans-Mediterranean Airways: TLQ\"',\n",
       " u'\"19497\",\"British Caribbean Airways: TXQ\"',\n",
       " u'\"19498\",\"Air Manila Inc.: UMQ\"',\n",
       " u'\"19499\",\"Avalon Aviation Ltd.: VOQ\"',\n",
       " u'\"19500\",\"Wardair Canada Inc.: WDQ\"',\n",
       " u'\"19501\",\"Gateway Aviation Limited: WGQ\"',\n",
       " u'\"19502\",\"Windward Islands Airways: WM\"',\n",
       " u'\"19503\",\"Nal Inc.: XBV\"',\n",
       " u'\"19504\",\"Yellow Bird Air: YBQ\"',\n",
       " u'\"19505\",\"Air Europe Limited: AE\"',\n",
       " u'\"19506\",\"Intair: ND\"',\n",
       " u'\"19507\",\"Yugoslav Airlines: JU\"',\n",
       " u'\"19508\",\"Union De Transports Aeriens: UT\"',\n",
       " u'\"19509\",\"Air Haiti S. A.: HJ\"',\n",
       " u'\"19510\",\"Servicio Aereo De Honduras: SH\"',\n",
       " u'\"19511\",\"Sterling Airways A/S: NBQ\"',\n",
       " u'\"19512\",\"Aerolineas El Salvador S A: SZQ\"',\n",
       " u'\"19513\",\"Transp. Aereos Bolivianos: BOQ\"',\n",
       " u'\"19514\",\"Aeronaves Del Peru: ADQ\"',\n",
       " u'\"19515\",\"Compania Dominicana De Avia: DO\"',\n",
       " u'\"19516\",\"Nigeria Airways Ltd.: WT\"',\n",
       " u'\"19517\",\"Lineas Aereas Paraguayas: PZ\"',\n",
       " u'\"19518\",\"Lufthansa Cargo Airlines: GE\"',\n",
       " u'\"19519\",\"Venezuelan International Airways: VA (1)\"',\n",
       " u'\"19520\",\"Andes: ED\"',\n",
       " u'\"19521\",\"Compan. De Aviacion Faucett: CF\"',\n",
       " u'\"19522\",\"Aviateca: GU\"',\n",
       " u'\"19523\",\"Canadian Airlines International Ltd.: CP (1)\"',\n",
       " u'\"19524\",\"Guyana Airways Corporation: GY\"',\n",
       " u'\"19525\",\"Seagreen Air Transport: ESQ\"',\n",
       " u'\"19526\",\"Air Nauru: ON\"',\n",
       " u'\"19527\",\"Aero Peru: PL\"',\n",
       " u'\"19528\",\"Balair Ag: BBQ\"',\n",
       " u'\"19529\",\"Sabena Belgian World Air.: SN (1)\"',\n",
       " u'\"19530\",\"Air Afrique: RK\"',\n",
       " u'\"19531\",\"Air Canada: AC\"',\n",
       " u'\"19532\",\"Compagnie Natl Air France: AF\"',\n",
       " u'\"19533\",\"National Aviation Company of India Limited d/b/a Air India: AI\"',\n",
       " u'\"19534\",\"Aeromexico: AM\"',\n",
       " u'\"19535\",\"Aerolineas Argentinas: AR\"',\n",
       " u'\"19536\",\"Royal Air Maroc: AT\"',\n",
       " u'\"19537\",\"Aerovias Nacl De Colombia: AV\"',\n",
       " u'\"19538\",\"Finnair Oy: AY\"',\n",
       " u'\"19539\",\"Compagnia Aerea Italiana: AZ\"',\n",
       " u'\"19540\",\"British Airways Plc: BA\"',\n",
       " u'\"19541\",\"British Midland Airways Ltd.: BD\"',\n",
       " u'\"19542\",\"Caribbean Airlines Limited: BW\"',\n",
       " u'\"19543\",\"Air China: CA\"',\n",
       " u'\"19544\",\"China Airlines Ltd.: CI\"',\n",
       " u'\"19545\",\"Cargolux Airlines International S.A: CV\"',\n",
       " u'\"19546\",\"Icelandair: FI\"',\n",
       " u'\"19547\",\"Iberia Air Lines Of Spain: IB\"',\n",
       " u'\"19548\",\"Japan Air Lines Co. Ltd.: JL\"',\n",
       " u'\"19549\",\"Air Jamaica Limited: JM\"',\n",
       " u'\"19550\",\"Korean Air Lines Co. Ltd.: KE\"',\n",
       " u'\"19551\",\"Klm Royal Dutch Airlines: KL\"',\n",
       " u'\"19552\",\"Lan-Chile Airlines: LA\"',\n",
       " u'\"19553\",\"Lloyd Aereo Boliviano S. A.: LB\"',\n",
       " u'\"19554\",\"Lufthansa German Airlines: LH\"',\n",
       " u'\"19555\",\"Polskie Linie Lotnicze: LO\"',\n",
       " u'\"19556\",\"Lacsa: LR\"',\n",
       " u'\"19557\",\"Luftransport-Unternehmen: LT\"',\n",
       " u'\"19558\",\"El Al Israel Airlines Ltd.: LY\"',\n",
       " u'\"19559\",\"Compania Mexicana De Aviaci: MX\"',\n",
       " u'\"19560\",\"N. W. Territorial Airways: NWQ\"',\n",
       " u'\"19561\",\"Olympic Airways: OA\"',\n",
       " u'\"19562\",\"Polynesian Airlines Ltd.: PH\"',\n",
       " u'\"19563\",\"Pakistan International Airlines: PK\"',\n",
       " u'\"19564\",\"Philippine Airlines Inc.: PR\"',\n",
       " u'\"19565\",\"Surinam Airways Limited: PY\"',\n",
       " u'\"19566\",\"Qantas Airways Ltd.: QF\"',\n",
       " u'\"19567\",\"Varig S. A.: RG\"',\n",
       " u'\"19568\",\"Alia-(The) Royal Jordanian: RJ\"',\n",
       " u'\"19569\",\"Tarom Romanian Air Transpor: RO\"',\n",
       " u'\"19570\",\"South African Airways: SA\"',\n",
       " u'\"19571\",\"Scandinavian Airlines Sys.: SK\"',\n",
       " u'\"19572\",\"Singapore Airlines Ltd.: SQ\"',\n",
       " u'\"19573\",\"Aeroflot Russian Airlines: SU\"',\n",
       " u'\"19574\",\"Taca International Airlines: TA\"',\n",
       " u'\"19575\",\"Thai Airways International Ltd.: TG\"',\n",
       " u'\"19576\",\"Tap-Portuguese Airlines: TP\"',\n",
       " u'\"19577\",\"Bahamasair Holding Limited: UP\"',\n",
       " u'\"19578\",\"Transtar Airlines Corp.: MC\"',\n",
       " u'\"19579\",\"Heavylift Cargo Airlines Lt: HLQ\"',\n",
       " u'\"19580\",\"Ladeco: UC\"',\n",
       " u'\"19581\",\"Altus Airlines: ALT\"',\n",
       " u'\"19582\",\"Atlantic Air: ANC\"',\n",
       " u'\"19583\",\"Aero International Airlines: BAA\"',\n",
       " u'\"19584\",\"Northern Star: DIR\"',\n",
       " u'\"19585\",\"Skytrain: SKT\"',\n",
       " u'\"19586\",\"Trans Air Cargo Inc.: TGO\"',\n",
       " u'\"19587\",\"T-Bird Air Inc.: THQ\"',\n",
       " u'\"19588\",\"Royal West Airways Inc.: ROA\"',\n",
       " u'\"19589\",\"Air East Of Delaware Inc.: AED\"',\n",
       " u'\"19590\",\"Atlanta Express: ALX\"',\n",
       " u'\"19591\",\"Air New Orleans: AOR\"',\n",
       " u'\"19592\",\"Air Vermont Inc.: AVR\"',\n",
       " u'\"19593\",\"Dolphin Airways Inc.: DOL\"',\n",
       " u'\"19594\",\"Devoe Airlines: DVO\"',\n",
       " u'\"19595\",\"Golden Pacific Airlines: KIN\"',\n",
       " u'\"19596\",\"National Florida Airlines: NFA\"',\n",
       " u'\"19597\",\"Slocum Air Inc.: SLO\"',\n",
       " u'\"19598\",\"State Airlines Inc.: STA\"',\n",
       " u'\"19599\",\"Air Molakai: TRO\"',\n",
       " u'\"19600\",\"Williams Air Inc.: WIR\"',\n",
       " u'\"19601\",\"Mission Air: WSU\"',\n",
       " u'\"19602\",\"Guy-America Airways Inc.: HX\"',\n",
       " u'\"19603\",\"Pacific Express: VB (1)\"',\n",
       " u'\"19604\",\"Northeastern International Airways: QS (1)\"',\n",
       " u'\"19605\",\"Friendship Air Alaska: HAR\"',\n",
       " u'\"19606\",\"Minuteman Aviation Inc.: MIN\"',\n",
       " u'\"19607\",\"Virgin Islands Seaplane: VIS\"',\n",
       " u'\"19608\",\"Flying Tiger Line Inc.: FT\"',\n",
       " u'\"19609\",\"Aerocondor: OD (1)\"',\n",
       " u'\"19610\",\"Emerald Airlines Inc.: OD\"',\n",
       " u'\"19611\",\"Northern Airlines Inc.: NRN\"',\n",
       " u'\"19612\",\"Pacific East Air Inc.: 6P\"',\n",
       " u'\"19613\",\"Jet Charter Service Inc.: TJ\"',\n",
       " u'\"19614\",\"Aeroservicios Ecuatorianos: EOQ\"',\n",
       " u'\"19615\",\"Arista International Airlines Inc.: RAQ\"',\n",
       " u'\"19616\",\"Kuwait Airways Corp.: KU\"',\n",
       " u'\"19617\",\"Burlington Aeroplane Co.: BAY\"',\n",
       " u'\"19618\",\"Desert Sun Airlines: DSA\"',\n",
       " u'\"19619\",\"Lake Union Air Service: LAS\"',\n",
       " u'\"19620\",\"Aer Turas Teoranta: QTQ\"',\n",
       " u'\"19621\",\"Aero B Venezuela C.A.: AFQ\"',\n",
       " u'\"19622\",\"Air Ontario Limited: GX\"',\n",
       " u'\"19623\",\"Aer Lingus Plc: EI\"',\n",
       " u'\"19624\",\"Saudi Arabian Airlines Corp: SV\"',\n",
       " u'\"19625\",\"Air Polynesia d/b/a DHL Cargo: XAB\"',\n",
       " u'\"19626\",\"Air Natl Aircraft Sal & Ser: XBZ\"',\n",
       " u'\"19627\",\"A/S Conair: CIQ\"',\n",
       " u'\"19628\",\"Dash Air Corporation: ANI\"',\n",
       " u'\"19629\",\"Air Resorts Airlines: ARA\"',\n",
       " u'\"19630\",\"Manu\\'a Air Transport: MUA\"',\n",
       " u'\"19631\",\"Pacific Cal Air: PCL\"',\n",
       " u'\"19632\",\"Service Aviation Inc.: SER\"',\n",
       " u'\"19633\",\"The Time Machine: TTM\"',\n",
       " u'\"19634\",\"Servicio De Carga Aerea Sa: CMQ\"',\n",
       " u'\"19635\",\"Hapag Lloyd Flug.: HAQ\"',\n",
       " u'\"19636\",\"Air One Inc.: CB\"',\n",
       " u'\"19637\",\"Middle East Airlines S.A.L.: ME\"',\n",
       " u'\"19638\",\"Arcata Flying Service: AFS\"',\n",
       " u'\"19639\",\"Grand Canyon Airlines: GRD\"',\n",
       " u'\"19640\",\"Kodiak Airways Inc.: KOD\"',\n",
       " u'\"19641\",\"Mid-Atlantic Exp. Airlines: MAE\"',\n",
       " u'\"19642\",\"National Commuter Airlines: NCA\"',\n",
       " u'\"19643\",\"Sundorph Aeronautical Corp.: SAC\"',\n",
       " u'\"19644\",\"Waring Air: WAR\"',\n",
       " u'\"19645\",\"All Star Airlines Inc.: EP\"',\n",
       " u'\"19646\",\"Aeron International Airlines Inc.: AXQ\"',\n",
       " u'\"19647\",\"Jet Fleet Intl. Airlines: JIQ\"',\n",
       " u'\"19648\",\"Markair Express: HER\"',\n",
       " u'\"19649\",\"Alaska Island Air Inc.: LSZ\"',\n",
       " u'\"19650\",\"Air Sunshine Inc.: AAT\"',\n",
       " u'\"19651\",\"Eastman Airways Inc.: EAT\"',\n",
       " u'\"19652\",\"Spirit Helicopter: SPH\"',\n",
       " u'\"19653\",\"Air National: AHQ\"',\n",
       " u'\"19654\",\"Executive Charter: EXC (1)\"',\n",
       " u'\"19655\",\"Aviation Associates: SNA\"',\n",
       " u'\"19656\",\"Airmarc Airlines Inc.: ARM\"',\n",
       " u'\"19657\",\"Panorama Air Tours: PAT\"',\n",
       " u'\"19658\",\"Trans-Air-Link Corporation: TKQ\"',\n",
       " u'\"19659\",\"Audi Air Inc.: AAI\"',\n",
       " u'\"19660\",\"Galaxy Airlines Inc.: GAQ\"',\n",
       " u'\"19661\",\"Intl Air Service Co. Ltd.: IDQ\"',\n",
       " u'\"19662\",\"Transbrasil S.A.: TR\"',\n",
       " u'\"19663\",\"Hawkins And Powers Aviation: XCA\"',\n",
       " u'\"19664\",\"Jet East Inc.: XBC\"',\n",
       " u'\"19665\",\"Air Sedona: ARS\"',\n",
       " u'\"19666\",\"Caribbean Express Inc.: CRE\"',\n",
       " u'\"19667\",\"Tri-State Airlines Inc.: TFZ\"',\n",
       " u'\"19668\",\"Frontier Horizon Inc.: FH\"',\n",
       " u'\"19669\",\"Aermediterranea S.P.A.: AWQ\"',\n",
       " u'\"19670\",\"Markair Inc.: BF\"',\n",
       " u'\"19671\",\"Air Tungaru Corporation: VK\"',\n",
       " u'\"19672\",\"Resort Airlines Inc.: RES\"',\n",
       " u'\"19673\",\"Alpine Air: AAV\"',\n",
       " u'\"19674\",\"Americair Inc.: AME\"',\n",
       " u'\"19675\",\"Airspur Helicopters Inc.: ARP\"',\n",
       " u'\"19676\",\"Silver Kris Services Ltd.: SKS\"',\n",
       " u'\"19677\",\"Buffalo Airways Inc.: BFQ\"',\n",
       " u'\"19678\",\"Aloha Airlines Inc.: AQ\"',\n",
       " u'\"19679\",\"Air Spirit Inc.: APS\"',\n",
       " u'\"19680\",\"Metro Express: EME\"',\n",
       " u'\"19681\",\"Frontier Commuter: FRT\"',\n",
       " u'\"19682\",\"Virgin Atlantic Airways: VS\"',\n",
       " u'\"19683\",\"Airmark Corporation: MKQ\"',\n",
       " u'\"19684\",\"Independent Air Inc.: INQ\"',\n",
       " u'\"19685\",\"Aerial Transit Company: TPQ\"',\n",
       " u'\"19686\",\"Westflight Aviation: WFT\"',\n",
       " u'\"19687\",\"Horizon Air: QX\"',\n",
       " u'\"19688\",\"Midway Express Airlines: 2M\"',\n",
       " u'\"19689\",\"St. Lucia Airways Limited: SDQ\"',\n",
       " u'\"19690\",\"Hawaiian Airlines Inc.: HA\"',\n",
       " u'\"19691\",\"Pacific Air Express Inc.: XDA\"',\n",
       " u'\"19692\",\"Trump Air: RIA\"',\n",
       " u'\"19693\",\"North Pacific Airlines Inc.: NPA\"',\n",
       " u'\"19694\",\"Flirite Inc.: FLR\"',\n",
       " u'\"19695\",\"Talarik Creek Air Taxi: TAT\"',\n",
       " u'\"19696\",\"Royale Airlines Inc.: RAY\"',\n",
       " u'\"19697\",\"Worldways Canada Ltd.: WWQ\"',\n",
       " u'\"19698\",\"Air Charter (Safa): AQQ\"',\n",
       " u'\"19699\",\"Samoa Airlines Inc.: MB\"',\n",
       " u'\"19700\",\"Alpha Air: APH\"',\n",
       " u'\"19701\",\"Jetaire Airlines Inc.: JTA\"',\n",
       " u'\"19702\",\"Haiti Air: KB\"',\n",
       " u'\"19703\",\"Harbor Air Service: HSV\"',\n",
       " u'\"19704\",\"Continental Air Lines Inc.: CO\"',\n",
       " u'\"19705\",\"Interstate Airlines Inc.: IRQ\"',\n",
       " u'\"19706\",\"Hawaii Pacific Helicopters: CLD\"',\n",
       " u'\"19707\",\"Eastern Air Lines Inc.: EA\"',\n",
       " u'\"19708\",\"Chisum Flying Service: CSM\"',\n",
       " u'\"19709\",\"AvAir: AMR\"',\n",
       " u'\"19710\",\"Armstrong Air Service Inc.: AAP\"',\n",
       " u'\"19711\",\"Eagle Airline: EGA\"',\n",
       " u'\"19712\",\"Business Express Airlines: BEA\"',\n",
       " u'\"19713\",\"Alliance Airlines: ACN\"',\n",
       " u'\"19714\",\"Astor Air: ASR\"',\n",
       " u'\"19715\",\"West Penn Commuter: BAT\"',\n",
       " u'\"19716\",\"Barken International: BRK\"',\n",
       " u'\"19717\",\"Commuter Airlines (Ca): CMR\"',\n",
       " u'\"19718\",\"Cresent Medivac: CRH\"',\n",
       " u'\"19719\",\"Coastal Air Transport: CTL\"',\n",
       " u'\"19720\",\"Exec Express: EEX\"',\n",
       " u'\"19721\",\"La Skycab Airline: LAA\"',\n",
       " u'\"19722\",\"National Air: NAT\"',\n",
       " u'\"19723\",\"Omniflight Airways: OMI\"',\n",
       " u'\"19724\",\"Southern Express Airways: SEP\"',\n",
       " u'\"19725\",\"Turner Aire: TUR\"',\n",
       " u'\"19726\",\"AAR Western Skyways: WSK\"',\n",
       " u'\"19727\",\"Skybus Inc.: FW\"',\n",
       " u'\"19728\",\"Caicos Caribbean Airways: CUQ\"',\n",
       " u'\"19729\",\"Jet Express: BDE\"',\n",
       " u'\"19730\",\"Regent Air Corporation: 4R\"',\n",
       " u'\"19731\",\"Westates Airlines: WTA\"',\n",
       " u'\"19732\",\"Action Airlines: AON\"',\n",
       " u'\"19733\",\"California Seaboard: CAF\"',\n",
       " u'\"19734\",\"Enterprise Airlines Inc.: ENT\"',\n",
       " u'\"19735\",\"Island Air Express: IEX\"',\n",
       " u'\"19736\",\"Maui Airlines: MAA\"',\n",
       " u'\"19737\",\"Metro Express 11: MEX\"',\n",
       " u'\"19738\",\"Otter Air: OTT\"',\n",
       " u'\"19739\",\"Prime Air Inc.: PRM\"',\n",
       " u'\"19740\",\"Sallee\\'s Aviation: SAL\"',\n",
       " u'\"19741\",\"Wrangell Air Service: WGL\"',\n",
       " u'\"19742\",\"Atlantic Gulf Airlines: ZY\"',\n",
       " u'\"19743\",\"Skyworld Airlines Inc.: PKQ\"',\n",
       " u'\"19744\",\"Presidential Airways Inc.: XV\"',\n",
       " u'\"19745\",\"Caribbean Air Cargo Co Ltd.: DC\"',\n",
       " u'\"19746\",\"P.T. Garuda Indonesian Arwy: GA\"',\n",
       " u'\"19747\",\"Egyptair: MS\"',\n",
       " u'\"19748\",\"Bay Air: BYA\"',\n",
       " u'\"19749\",\"Five Star Airlines: FFQ\"',\n",
       " u'\"19750\",\"King Flying Service: KFS\"',\n",
       " u'\"19751\",\"Le Point Air: LEQ\"',\n",
       " u'\"19752\",\"Barrow Air: BRW\"',\n",
       " u'\"19753\",\"Big Island Air: BIA\"',\n",
       " u'\"19754\",\"Cityhop: CCA\"',\n",
       " u'\"19755\",\"GP Express Airlines: GPA\"',\n",
       " u'\"19756\",\"Iowa Airways: IOW\"',\n",
       " u'\"19757\",\"Mountain West Airlines: MWA\"',\n",
       " u'\"19758\",\"Resort Commuter: RSC\"',\n",
       " u'\"19759\",\"Texas National Airlines: TXA\"',\n",
       " u'\"19760\",\"Air Hawaii: AHC\"',\n",
       " u'\"19761\",\"Aerotal: XK\"',\n",
       " u'\"19762\",\"Air L.A.: ALS\"',\n",
       " u'\"19763\",\"Aero Coach: AEO\"',\n",
       " u'\"19764\",\"Air Link Airways: ALK\"',\n",
       " u'\"19765\",\"Million Air: BFG\"',\n",
       " u'\"19766\",\"Helitrans: HEL\"',\n",
       " u'\"19767\",\"La Helicopter: LAH\"',\n",
       " u'\"19768\",\"Omniflight Helicopters: OMH\"',\n",
       " u'\"19769\",\"Reeves Air: RVA\"',\n",
       " u'\"19770\",\"Compania Panamena (Copa): CM\"',\n",
       " u'\"19771\",\"Zas Airline Of Egypt: ZAQ\"',\n",
       " u'\"19772\",\"Polar International: POL\"',\n",
       " u'\"19773\",\"Hemisphere Air Charter: XDC\"',\n",
       " u'\"19774\",\"Airways International: AIT\"',\n",
       " u'\"19775\",\"Chicago Airlines: CGA\"',\n",
       " u'\"19776\",\"Royal West Airlines: YM\"',\n",
       " u'\"19777\",\"Airpac Inc.: XYZ\"',\n",
       " u'\"19778\",\"Aerovias Venezolanas-Avensa: VE\"',\n",
       " u'\"19779\",\"Cathay Pacific Airways Ltd.: CX\"',\n",
       " u'\"19780\",\"Galena Air Service: GAL\"',\n",
       " u'\"19781\",\"Stateswest Airlines: STW\"',\n",
       " u'\"19782\",\"Executive Transport: EXR\"',\n",
       " u'\"19783\",\"Propheter Aviation: PRP\"',\n",
       " u'\"19784\",\"Wise Airlines Inc.: WAI\"',\n",
       " u'\"19786\",\"Haines Airways: HNS\"',\n",
       " u'\"19787\",\"Great American Airways: FDQ\"',\n",
       " u'\"19788\",\"Air Puerto Rico Airlines: FD\"',\n",
       " u'\"19789\",\"Viacao Aerea Sao Paulo: VP\"',\n",
       " u'\"19790\",\"Delta Air Lines Inc.: DL\"',\n",
       " u'\"19791\",\"All Nippon Airways Co.: NH\"',\n",
       " u'\"19792\",\"International Parcel Express Inc.: XDD\"',\n",
       " u'\"19793\",\"Anglo Airlines Ltd.: AZQ\"',\n",
       " u'\"19794\",\"Midcontinent Airlines: MDC\"',\n",
       " u'\"19795\",\"Malaysian Airline System: MH\"',\n",
       " u'\"19796\",\"Pilgrim Aviation & Airlines: PMT\"',\n",
       " u'\"19797\",\"Florida Express Inc.: ZO\"',\n",
       " u'\"19798\",\"Orion Air: OPQ\"',\n",
       " u'\"19799\",\"Nationair: NAQ\"',\n",
       " u'\"19800\",\"Air Cape: APE\"',\n",
       " u'\"19801\",\"Lake Coastal: LCT\"',\n",
       " u'\"19802\",\"Mst Aviation: MTV\"',\n",
       " u'\"19803\",\"First Air: 7F\"',\n",
       " u'\"19804\",\"Transportes Aereos De Cabo: VR\"',\n",
       " u'\"19805\",\"American Airlines Inc.: AA\"',\n",
       " u'\"19806\",\"Air Charter Systems (Acs): WAQ\"',\n",
       " u'\"19807\",\"Helitac Aviation: HET\"',\n",
       " u'\"19808\",\"Belize Air International Ltd.: BM\"',\n",
       " u'\"19809\",\"Highland Express Airways: VY\"',\n",
       " u'\"19810\",\"Mid Pacific Airlines Inc.: MPA\"',\n",
       " u'\"19811\",\"Aero Tranportes Panamenos: ATQ\"',\n",
       " u'\"19812\",\"Millon Air Inc.: LBQ\"',\n",
       " u'\"19813\",\"Air Caribe International: ARB\"',\n",
       " u'\"19814\",\"Air South (1): ASU\"',\n",
       " u'\"19815\",\"Air South: ASH\"',\n",
       " u'\"19816\",\"Bangor International Air: BAN\"',\n",
       " u'\"19817\",\"Chester County Aviation: CCO\"',\n",
       " u'\"19818\",\"East Coast Airways: ECR\"',\n",
       " u'\"19819\",\"Hub Express: HEP\"',\n",
       " u'\"19820\",\"Tropical Helicopter Airways: THA\"',\n",
       " u'\"19821\",\"Turk Hava Yollari A.O.: TK\"',\n",
       " u'\"19822\",\"Piedmont Aviation Inc.: PI\"',\n",
       " u'\"19823\",\"Air Train Inc.: XDE\"',\n",
       " u'\"19824\",\"Haiti Air Freight Intl: HFQ\"',\n",
       " u'\"19825\",\"Ketchikan Air Service: KET\"',\n",
       " u'\"19826\",\"Salair Inc.: XDF\"',\n",
       " u'\"19827\",\"Npa Inc.: NAP\"',\n",
       " u'\"19828\",\"Air America: GM\"',\n",
       " u'\"19829\",\"Time Air Ltd.: KI\"',\n",
       " u'\"19830\",\"Nippon Cargo Airlines: KZ\"',\n",
       " u'\"19831\",\"Seagull Air Service: SEG\"',\n",
       " u'\"19832\",\"Nasville Eagle: NAS\"',\n",
       " u'\"19833\",\"Aleutian Air: ALU\"',\n",
       " u'\"19834\",\"Custom Air Service: CUS\"',\n",
       " u'\"19835\",\"GCS Air Service: GSC\"',\n",
       " u'\"19836\",\"Golden State Airlines: GST\"',\n",
       " u'\"19837\",\"Springdale Air: SPG\"',\n",
       " u'\"19838\",\"Sportsman Flying Service: SPR\"',\n",
       " u'\"19839\",\"Saeta Airlines: EH\"',\n",
       " u'\"19840\",\"Aerolineas Mundo: MUQ\"',\n",
       " u'\"19841\",\"Tropical Airways Inc.: GG (1)\"',\n",
       " u'\"19842\",\"Grenada Airways Ltd.: GG (2)\"',\n",
       " u'\"19843\",\"Mid Pacific Air Corp.: MPC\"',\n",
       " u'\"19844\",\"Exec Express II: EET\"',\n",
       " u'\"19845\",\"Taquan Air Service: TAQ\"',\n",
       " u'\"19846\",\"Chartair: CTR\"',\n",
       " u'\"19847\",\"Laredo Air: LAR\"',\n",
       " u'\"19848\",\"Qwest Commuter: QWE\"',\n",
       " u'\"19849\",\"Tri Air Freight: TAF\"',\n",
       " u'\"19850\",\"Wra Inc.: WRA\"',\n",
       " u'\"19851\",\"Zambia Airways Corp.: Q2\"',\n",
       " u'\"19852\",\"Swissair Transport Co. Ltd.: SR\"',\n",
       " u'\"19853\",\"Airlift International: ARD\"',\n",
       " u'\"19854\",\"Pacair: PCR\"',\n",
       " u'\"19855\",\"Bradley Air Services Ltd.: BCQ\"',\n",
       " u'\"19856\",\"Corse Air International: CYQ\"',\n",
       " u'\"19857\",\"Iraqi Airways: IA\"',\n",
       " u'\"19858\",\"Monarch Airlines: ZB\"',\n",
       " u'\"19859\",\"Vacationair: VAQ\"',\n",
       " u'\"19860\",\"Lineas Aereas La-Tur Sa: LUQ\"',\n",
       " u'\"19861\",\"Holidair Airways: HOQ\"',\n",
       " u'\"19862\",\"Aerovias S.A.: AOQ\"',\n",
       " u'\"19863\",\"Alas De Transporte International: APQ\"',\n",
       " u'\"19864\",\"Transamerica Airlines Inc.: TV (1)\"',\n",
       " u'\"19865\",\"Haiti Trans Air: TV\"',\n",
       " u'\"19866\",\"Canadian Aviation Express: CWQ\"',\n",
       " u'\"19867\",\"Japan Air System Co. Ltd.: JD\"',\n",
       " u'\"19868\",\"Manhattan Express: MEA\"',\n",
       " u'\"19869\",\"Britannia Airways Ltd.: BY\"',\n",
       " u'\"19870\",\"Aero Freight: AEF\"',\n",
       " u'\"19871\",\"Panama Aviation: PNM\"',\n",
       " u'\"19872\",\"Welch Aviation: WLH\"',\n",
       " u'\"19873\",\"Austrian Airlines: OS\"',\n",
       " u'\"19874\",\"Air Transport International: 8C\"',\n",
       " u'\"19875\",\"Aero California: JR\"',\n",
       " u'\"19876\",\"Heritage Airlines: HRG\"',\n",
       " u'\"19877\",\"Kitty Hawk Air Cargo: XDH\"',\n",
       " u'\"19878\",\"Columbia Pacific Airlines (1): EXA\"',\n",
       " u'\"19879\",\"Columbia Pacific Airlines: CLB\"',\n",
       " u'\"19880\",\"Central States Air Lines: CSL\"',\n",
       " u'\"19881\",\"Mohawk Airlines: MHK\"',\n",
       " u'\"19882\",\"Skymaster: SYM\"',\n",
       " u'\"19883\",\"Novair International Airways Ltd.: NVQ\"',\n",
       " u'\"19884\",\"TPI International Airways: TSQ\"',\n",
       " u'\"19885\",\"Universal Airlines Inc.: UTQ\"',\n",
       " u'\"19886\",\"Aruba Cargo: IPQ\"',\n",
       " u'\"19887\",\"Latcr: LCQ\"',\n",
       " u'\"19888\",\"Transcarga: TDQ (1)\"',\n",
       " u'\"19889\",\"Venexcargo: TDQ\"',\n",
       " u'\"19890\",\"Aeroejecutivos C.A.: EJQ\"',\n",
       " u'\"19891\",\"Aeropuma: PUQ\"',\n",
       " u'\"19892\",\"Aeronautica De Cancun: ACQ\"',\n",
       " u'\"19893\",\"Aerovias Colombianas Arca: ARQ\"',\n",
       " u'\"19894\",\"Zuliana De Aviacion: ZUQ\"',\n",
       " u'\"19895\",\"Interamericana De Aviacion: ITQ\"',\n",
       " u'\"19896\",\"Fast Air Carrier Ltd.: UD\"',\n",
       " u'\"19897\",\"Lineas Aereas Mayas (Lamsa): MYQ\"',\n",
       " u'\"19898\",\"Emery Worldwide Airlines: TNQ\"',\n",
       " u'\"19899\",\"Hong Kong Dragonair: KA\"',\n",
       " u'\"19900\",\"Air Marshall Islands Inc.: CW\"',\n",
       " u'\"19901\",\"Blue Bell Inc.: BUQ (1)\"',\n",
       " u'\"19902\",\"Wrangler Aviation Inc.: BUQ\"',\n",
       " u'\"19903\",\"Conquest Airline Corp.: CQI\"',\n",
       " u'\"19904\",\"Air Southeast: ATH\"',\n",
       " u'\"19905\",\"California Air Shuttle: CLF\"',\n",
       " u'\"19906\",\"Northcoast Executive: NCE\"',\n",
       " u'\"19907\",\"Scott Aviation: SCN\"',\n",
       " u'\"19908\",\"Trans Air (Hawaii): TXE\"',\n",
       " u'\"19909\",\"Air Belgium: BEQ\"',\n",
       " u'\"19910\",\"Aerolineas Latinas: LNQ\"',\n",
       " u'\"19911\",\"Air Aruba: FQ\"',\n",
       " u'\"19912\",\"Cayman Airways Limited: KX\"',\n",
       " u'\"19913\",\"Belize Trans Air: 4H\"',\n",
       " u'\"19914\",\"Air Liberte: LRQ\"',\n",
       " u'\"19915\",\"Sea Air Shuttle: SAH\"',\n",
       " u'\"19916\",\"Primeras Lineas Uruguays For International: PU\"',\n",
       " u'\"19917\",\"United Parcel Service: 5X\"',\n",
       " u'\"19918\",\"Gulf Air Taxi: GAT\"',\n",
       " u'\"19919\",\"Adirondack Airlines: ADR\"',\n",
       " u'\"19920\",\"Corporate Air: CRP\"',\n",
       " u'\"19921\",\"Drummond Island Air: DIA\"',\n",
       " u'\"19922\",\"Gulf Flite Center: GFC\"',\n",
       " u'\"19923\",\"Lapsa: LAP\"',\n",
       " u'\"19924\",\"L\\'Express: LEX\"',\n",
       " u'\"19925\",\"Travelair: TVL\"',\n",
       " u'\"19926\",\"Valley Air Services: VAS\"',\n",
       " u'\"19927\",\"Aerosur (1): ASQ\"',\n",
       " u'\"19928\",\"Central American Airlines: GW\"',\n",
       " u'\"19929\",\"Charter One: CHT\"',\n",
       " u'\"19930\",\"Alaska Airlines Inc.: AS\"',\n",
       " u'\"19931\",\"Regal Air: 2R\"',\n",
       " u'\"19932\",\"Apa International Air S.A.: 7P\"',\n",
       " u'\"19933\",\"Air New Zealand: NZ\"',\n",
       " u'\"19934\",\"Das Air Cargo: SE (1)\"',\n",
       " u'\"19935\",\"Star Aviation: SRA\"',\n",
       " u'\"19936\",\"Territorial Airlines: TRR\"',\n",
       " u'\"19937\",\"Loken Aviation: LKN\"',\n",
       " u'\"19938\",\"Dawn Air: DWN\"',\n",
       " u'\"19939\",\"Flying Boat: FYB\"',\n",
       " u'\"19940\",\"Caraven S.A.: CVQ\"',\n",
       " u'\"19941\",\"Trans Europ. Airways France: EFQ\"',\n",
       " u'\"19942\",\"General Air Cargo: GCQ\"',\n",
       " u'\"19943\",\"Allied Airlines: ALD\"',\n",
       " u'\"19944\",\"Airvantage: AVG\"',\n",
       " u'\"19945\",\"Chicago Air Taxi: CGO\"',\n",
       " u'\"19946\",\"Great Western Aviation: GWA\"',\n",
       " u'\"19947\",\"Paradise Island Airlines: PRD\"',\n",
       " u'\"19948\",\"Redwing Airways: RDW\"',\n",
       " u'\"19949\",\"Lauda Air Luftfahrt Ag: NG\"',\n",
       " u'\"19950\",\"Flagship Express Services: 9R\"',\n",
       " u'\"19951\",\"Braniff International Airlines Inc.: BE\"',\n",
       " u'\"19952\",\"Carnival Air Lines Inc.: KW\"',\n",
       " u'\"19953\",\"Transportes Aereos Mercantiles Panamericanos S.A: QT\"',\n",
       " u'\"19954\",\"Japan Air Charter Co. Ltd.: JZ\"',\n",
       " u'\"19955\",\"Affretair: ZL\"',\n",
       " u'\"19956\",\"Servicios Avensa: VC\"',\n",
       " u'\"19957\",\"Mcclain Airlines Inc.: MU (1)\"',\n",
       " u'\"19958\",\"China Eastern Airlines: MU\"',\n",
       " u'\"19959\",\"Dulles Express: DUL\"',\n",
       " u'\"19960\",\"Skybus Express Airlines: SYB\"',\n",
       " u'\"19961\",\"Air Transat: TS\"',\n",
       " u'\"19962\",\"Hawaii Pacific Air: XAH\"',\n",
       " u'\"19963\",\"World Air Network: WL\"',\n",
       " u'\"19964\",\"Island Express: IPS\"',\n",
       " u'\"19965\",\"Rocky Mountain Helicopters: RMH\"',\n",
       " u'\"19966\",\"Sierra Nevada Airways: SNV\"',\n",
       " u'\"19967\",\"Trans World Express: TWE\"',\n",
       " u'\"19968\",\"Arizona Pacific Airways: AZP\"',\n",
       " u'\"19969\",\"International Cargo Xpress: XPQ\"',\n",
       " u'\"19970\",\"Northeast Express Regional (1): NER\"',\n",
       " u'\"19971\",\"Northeast Express Regional: NEX\"',\n",
       " u'\"19972\",\"Av Atlantic: HCQ\"',\n",
       " u'\"19973\",\"Aerotour Dominicano Cxa: RTQ\"',\n",
       " u'\"19974\",\"Aero Uruguay (1): ROQ\"',\n",
       " u'\"19975\",\"Aero Uruguay: URQ\"',\n",
       " u'\"19976\",\"Air North: 4N\"',\n",
       " u'\"19977\",\"United Air Lines Inc.: UA\"',\n",
       " u'\"19978\",\"Air Alpha: AHA\"',\n",
       " u'\"19979\",\"Alliance Air: AIY\"',\n",
       " u'\"19980\",\"Florida Air: FLA\"',\n",
       " u'\"19981\",\"Patriot Airlines Inc.: PAQ\"',\n",
       " u'\"19982\",\"USAir Shuttle: TB (1)\"',\n",
       " u'\"19983\",\"Key Airlines Inc.: ZN\"',\n",
       " u'\"19984\",\"Translift Airways Limited: FB\"',\n",
       " u'\"19985\",\"Turks Air Ltd.: KTQ\"',\n",
       " u'\"19986\",\"Turks Air Ltd. (1): BHQ\"',\n",
       " u'\"19987\",\"Advantage Airlines: ADV\"',\n",
       " u'\"19988\",\"Air West Airlines: AWA\"',\n",
       " u'\"19989\",\"Keene Airways: KEA\"',\n",
       " u'\"19990\",\"Sky One Express: SOE\"',\n",
       " u'\"19991\",\"America West Airlines Inc.: HP (Merged with US Airways 9/05.Stopped reporting 10/07.)\"',\n",
       " u'\"19992\",\"Hispaniola Airways: ZS\"',\n",
       " u'\"19993\",\"Airmark Airlines Inc.: AKQ\"',\n",
       " u'\"19994\",\"Reno Air Inc.: QQ\"',\n",
       " u'\"19995\",\"Aces Airlines: VX (1)\"',\n",
       " u'\"19996\",\"Nicaraguense De Aviacion Sa: 6Y\"',\n",
       " u'\"19997\",\"Jet America Airlines Inc.: SI (1)\"',\n",
       " u'\"19998\",\"Sierra Pacific Airlines: SI\"',\n",
       " u'\"19999\",\"South Pacific Island Airway: SOP\"',\n",
       " u'\"20000\",\"Time Air Sweden Ab: HK\"',\n",
       " u'\"20001\",\"Tranps Aereos Guatemaltecos: TGQ\"',\n",
       " u'\"20002\",\"Morris Air Corporation: KN\"',\n",
       " u'\"20003\",\"Balkan Bulgarian Airlines: LZ\"',\n",
       " u'\"20004\",\"Cal Air International Ltd.: BR (1)\"',\n",
       " u'\"20005\",\"Eva Airways Corporation: BR\"',\n",
       " u'\"20006\",\"Capitol Air Express Inc.: CPQ\"',\n",
       " u'\"20007\",\"Atlas Air Inc.: 5Y\"',\n",
       " u'\"20008\",\"Ram Aviation: RMV\"',\n",
       " u'\"20009\",\"Eclipse Airlines: ECL\"',\n",
       " u'\"20010\",\"Aero Transcolombiana: CLQ\"',\n",
       " u'\"20011\",\"Air Casino: ASN\"',\n",
       " u'\"20012\",\"Express Airlines II: EXP\"',\n",
       " u'\"20013\",\"Rader Aviation: RDR\"',\n",
       " u'\"20014\",\"Trans American Charter: ECQ\"',\n",
       " u'\"20015\",\"Export Air Del Peru S.A.: EXQ\"',\n",
       " u'\"20016\",\"Lineas Aereas Allegro: LGQ\"',\n",
       " u'\"20017\",\"Continental Micronesia: CS\"',\n",
       " u'\"20018\",\"J.D.Valenciana De Aviation: V5\"',\n",
       " u'\"20019\",\"Private Jet Expeditions: 5J\"',\n",
       " u'\"20020\",\"Eagle Airlines: V9\"',\n",
       " u'\"20021\",\"Eagle Airlines (1): ECA\"',\n",
       " u'\"20022\",\"Leisure International Airways Ltd.: LZQ\"',\n",
       " u'\"20023\",\"Malev Hungarian Airlines: MA\"',\n",
       " u'\"20024\",\"Serv. Aerolineas Mexicanas: SMQ\"',\n",
       " u'\"20025\",\"Lineas Aereas Suramerican: LSQ\"',\n",
       " u'\"20026\",\"Quassar De Mexico: OMQ\"',\n",
       " u'\"20027\",\"Oasis International Airlines S.A.: OB\"',\n",
       " u'\"20028\",\"Aerochago S.A.: G3 (1)\"',\n",
       " u'\"20029\",\"Transp. Aereos Ejecutivos: GD\"',\n",
       " u'\"20030\",\"Aerolineas Uruguayas S.A.: UYQ\"',\n",
       " ...]"
      ]
     },
     "execution_count": 41,
     "metadata": {},
     "output_type": "execute_result"
    }
   ],
   "source": [
    "airlines.collect()"
   ]
  },
  {
   "cell_type": "code",
   "execution_count": 42,
   "metadata": {
    "collapsed": false
   },
   "outputs": [
    {
     "data": {
      "text/plain": [
       "u'Code,Description'"
      ]
     },
     "execution_count": 42,
     "metadata": {},
     "output_type": "execute_result"
    }
   ],
   "source": [
    "airlines.first()"
   ]
  },
  {
   "cell_type": "code",
   "execution_count": 43,
   "metadata": {
    "collapsed": false
   },
   "outputs": [
    {
     "data": {
      "text/plain": [
       "[u'Code,Description',\n",
       " u'\"19031\",\"Mackey International Inc.: MAC\"',\n",
       " u'\"19032\",\"Munz Northern Airlines Inc.: XY\"',\n",
       " u'\"19033\",\"Cochise Airlines Inc.: COC\"',\n",
       " u'\"19034\",\"Golden Gate Airlines Inc.: GSA\"',\n",
       " u'\"19035\",\"Aeromech Inc.: RZZ\"',\n",
       " u'\"19036\",\"Golden West Airlines Co.: GLW\"',\n",
       " u'\"19037\",\"Puerto Rico Intl Airlines: PRN\"',\n",
       " u'\"19038\",\"Air America Inc.: STZ\"',\n",
       " u'\"19039\",\"Swift Aire Lines Inc.: SWT\"']"
      ]
     },
     "execution_count": 43,
     "metadata": {},
     "output_type": "execute_result"
    }
   ],
   "source": [
    "airlines.take(10)"
   ]
  },
  {
   "cell_type": "code",
   "execution_count": 44,
   "metadata": {
    "collapsed": false
   },
   "outputs": [
    {
     "data": {
      "text/plain": [
       "1580"
      ]
     },
     "execution_count": 44,
     "metadata": {},
     "output_type": "execute_result"
    }
   ],
   "source": [
    "airlines.count()"
   ]
  },
  {
   "cell_type": "code",
   "execution_count": 45,
   "metadata": {
    "collapsed": true
   },
   "outputs": [],
   "source": [
    "airlinesWoHeader = airlines.filter(lambda x:\"Description\" not in x)"
   ]
  },
  {
   "cell_type": "code",
   "execution_count": 46,
   "metadata": {
    "collapsed": false
   },
   "outputs": [
    {
     "name": "stdout",
     "output_type": "stream",
     "text": [
      "PythonRDD[15] at RDD at PythonRDD.scala:48\n"
     ]
    }
   ],
   "source": [
    "print airlinesWoHeader"
   ]
  },
  {
   "cell_type": "code",
   "execution_count": 47,
   "metadata": {
    "collapsed": false
   },
   "outputs": [
    {
     "data": {
      "text/plain": [
       "[u'\"19031\",\"Mackey International Inc.: MAC\"',\n",
       " u'\"19032\",\"Munz Northern Airlines Inc.: XY\"',\n",
       " u'\"19033\",\"Cochise Airlines Inc.: COC\"',\n",
       " u'\"19034\",\"Golden Gate Airlines Inc.: GSA\"',\n",
       " u'\"19035\",\"Aeromech Inc.: RZZ\"',\n",
       " u'\"19036\",\"Golden West Airlines Co.: GLW\"',\n",
       " u'\"19037\",\"Puerto Rico Intl Airlines: PRN\"',\n",
       " u'\"19038\",\"Air America Inc.: STZ\"',\n",
       " u'\"19039\",\"Swift Aire Lines Inc.: SWT\"',\n",
       " u'\"19040\",\"American Central Airlines: TSF\"']"
      ]
     },
     "execution_count": 47,
     "metadata": {},
     "output_type": "execute_result"
    }
   ],
   "source": [
    "airlinesWoHeader.take(10)"
   ]
  },
  {
   "cell_type": "code",
   "execution_count": 48,
   "metadata": {
    "collapsed": true
   },
   "outputs": [],
   "source": [
    "airlinesParsed=airlinesWoHeader.map(lambda x:x.split(\",\")).take(10)"
   ]
  },
  {
   "cell_type": "code",
   "execution_count": 49,
   "metadata": {
    "collapsed": false
   },
   "outputs": [
    {
     "name": "stdout",
     "output_type": "stream",
     "text": [
      "[[u'\"19031\"', u'\"Mackey International Inc.: MAC\"'], [u'\"19032\"', u'\"Munz Northern Airlines Inc.: XY\"'], [u'\"19033\"', u'\"Cochise Airlines Inc.: COC\"'], [u'\"19034\"', u'\"Golden Gate Airlines Inc.: GSA\"'], [u'\"19035\"', u'\"Aeromech Inc.: RZZ\"'], [u'\"19036\"', u'\"Golden West Airlines Co.: GLW\"'], [u'\"19037\"', u'\"Puerto Rico Intl Airlines: PRN\"'], [u'\"19038\"', u'\"Air America Inc.: STZ\"'], [u'\"19039\"', u'\"Swift Aire Lines Inc.: SWT\"'], [u'\"19040\"', u'\"American Central Airlines: TSF\"']]\n"
     ]
    }
   ],
   "source": [
    "print airlinesParsed"
   ]
  },
  {
   "cell_type": "code",
   "execution_count": 50,
   "metadata": {
    "collapsed": false
   },
   "outputs": [
    {
     "data": {
      "text/plain": [
       "[16, 40, 41, 36, 40, 28, 39, 40, 31, 36]"
      ]
     },
     "execution_count": 50,
     "metadata": {},
     "output_type": "execute_result"
    }
   ],
   "source": [
    "airlines.map(len).take(10)"
   ]
  },
  {
   "cell_type": "code",
   "execution_count": 51,
   "metadata": {
    "collapsed": false
   },
   "outputs": [
    {
     "data": {
      "text/plain": [
       "[u'\"19031\",\"Mackey International Inc.: MAC\"',\n",
       " u'\"19032\",\"Munz Northern Airlines Inc.: XY\"',\n",
       " u'\"19033\",\"Cochise Airlines Inc.: COC\"',\n",
       " u'\"19034\",\"Golden Gate Airlines Inc.: GSA\"',\n",
       " u'\"19035\",\"Aeromech Inc.: RZZ\"',\n",
       " u'\"19036\",\"Golden West Airlines Co.: GLW\"',\n",
       " u'\"19037\",\"Puerto Rico Intl Airlines: PRN\"',\n",
       " u'\"19038\",\"Air America Inc.: STZ\"',\n",
       " u'\"19039\",\"Swift Aire Lines Inc.: SWT\"',\n",
       " u'\"19040\",\"American Central Airlines: TSF\"']"
      ]
     },
     "execution_count": 51,
     "metadata": {},
     "output_type": "execute_result"
    }
   ],
   "source": [
    "def notHeader(row):\n",
    "    return \"Description\" not in row\n",
    "airlines.filter(notHeader).take(10)"
   ]
  },
  {
   "cell_type": "code",
   "execution_count": 53,
   "metadata": {
    "collapsed": false
   },
   "outputs": [
    {
     "data": {
      "text/plain": [
       "[[u'\"19031\"', u'\"Mackey International Inc.: MAC\"'],\n",
       " [u'\"19032\"', u'\"Munz Northern Airlines Inc.: XY\"'],\n",
       " [u'\"19033\"', u'\"Cochise Airlines Inc.: COC\"'],\n",
       " [u'\"19034\"', u'\"Golden Gate Airlines Inc.: GSA\"'],\n",
       " [u'\"19035\"', u'\"Aeromech Inc.: RZZ\"'],\n",
       " [u'\"19036\"', u'\"Golden West Airlines Co.: GLW\"'],\n",
       " [u'\"19037\"', u'\"Puerto Rico Intl Airlines: PRN\"'],\n",
       " [u'\"19038\"', u'\"Air America Inc.: STZ\"'],\n",
       " [u'\"19039\"', u'\"Swift Aire Lines Inc.: SWT\"'],\n",
       " [u'\"19040\"', u'\"American Central Airlines: TSF\"']]"
      ]
     },
     "execution_count": 53,
     "metadata": {},
     "output_type": "execute_result"
    }
   ],
   "source": [
    "airlines.filter(notHeader)\\\n",
    ".map(lambda x: x.split(\",\")) \\\n",
    ".take(10)"
   ]
  },
  {
   "cell_type": "code",
   "execution_count": 54,
   "metadata": {
    "collapsed": false
   },
   "outputs": [
    {
     "data": {
      "text/plain": [
       "[['19031', 'Mackey International Inc.: MAC'],\n",
       " ['19032', 'Munz Northern Airlines Inc.: XY'],\n",
       " ['19033', 'Cochise Airlines Inc.: COC'],\n",
       " ['19034', 'Golden Gate Airlines Inc.: GSA'],\n",
       " ['19035', 'Aeromech Inc.: RZZ'],\n",
       " ['19036', 'Golden West Airlines Co.: GLW'],\n",
       " ['19037', 'Puerto Rico Intl Airlines: PRN'],\n",
       " ['19038', 'Air America Inc.: STZ'],\n",
       " ['19039', 'Swift Aire Lines Inc.: SWT'],\n",
       " ['19040', 'American Central Airlines: TSF']]"
      ]
     },
     "execution_count": 54,
     "metadata": {},
     "output_type": "execute_result"
    }
   ],
   "source": [
    "import csv \n",
    "from StringIO import StringIO\n",
    "\n",
    "def split(line):\n",
    "    reader = csv.reader(StringIO(line))\n",
    "    return reader.next()\n",
    "airlines.filter(notHeader).map(split).take(10)"
   ]
  },
  {
   "cell_type": "code",
   "execution_count": 56,
   "metadata": {
    "collapsed": false
   },
   "outputs": [],
   "source": [
    "flight=sc.textFile(flightPath)"
   ]
  },
  {
   "cell_type": "code",
   "execution_count": 57,
   "metadata": {
    "collapsed": false
   },
   "outputs": [
    {
     "data": {
      "text/plain": [
       "476881"
      ]
     },
     "execution_count": 57,
     "metadata": {},
     "output_type": "execute_result"
    }
   ],
   "source": [
    "flight.count()"
   ]
  },
  {
   "cell_type": "code",
   "execution_count": 58,
   "metadata": {
    "collapsed": false
   },
   "outputs": [
    {
     "data": {
      "text/plain": [
       "[u'2014-04-01,19805,1,JFK,LAX,0854,-6.00,1217,2.00,355.00,2475.00',\n",
       " u'2014-04-01,19805,2,LAX,JFK,0944,14.00,1736,-29.00,269.00,2475.00',\n",
       " u'2014-04-01,19805,3,JFK,LAX,1224,-6.00,1614,39.00,371.00,2475.00',\n",
       " u'2014-04-01,19805,4,LAX,JFK,1240,25.00,2028,-27.00,264.00,2475.00',\n",
       " u'2014-04-01,19805,5,DFW,HNL,1300,-5.00,1650,15.00,510.00,3784.00',\n",
       " u'2014-04-01,19805,6,OGG,DFW,1901,126.00,0640,95.00,385.00,3711.00',\n",
       " u'2014-04-01,19805,7,DFW,OGG,1410,125.00,1743,138.00,497.00,3711.00',\n",
       " u'2014-04-01,19805,8,HNL,DFW,1659,4.00,0458,-22.00,398.00,3784.00',\n",
       " u'2014-04-01,19805,9,JFK,LAX,0648,-7.00,1029,19.00,365.00,2475.00',\n",
       " u'2014-04-01,19805,10,LAX,JFK,2156,21.00,0556,1.00,265.00,2475.00']"
      ]
     },
     "execution_count": 58,
     "metadata": {},
     "output_type": "execute_result"
    }
   ],
   "source": [
    "flight.take(10)"
   ]
  },
  {
   "cell_type": "code",
   "execution_count": 59,
   "metadata": {
    "collapsed": false
   },
   "outputs": [
    {
     "name": "stdout",
     "output_type": "stream",
     "text": [
      "class Flight(tuple):\n",
      "    'Flight(date, airline, flightnum, origin, dest, dep, dep_delay, arv, arv_delay, airtime, distance)'\n",
      "\n",
      "    __slots__ = ()\n",
      "\n",
      "    _fields = ('date', 'airline', 'flightnum', 'origin', 'dest', 'dep', 'dep_delay', 'arv', 'arv_delay', 'airtime', 'distance')\n",
      "\n",
      "    def __new__(_cls, date, airline, flightnum, origin, dest, dep, dep_delay, arv, arv_delay, airtime, distance):\n",
      "        'Create new instance of Flight(date, airline, flightnum, origin, dest, dep, dep_delay, arv, arv_delay, airtime, distance)'\n",
      "        return _tuple.__new__(_cls, (date, airline, flightnum, origin, dest, dep, dep_delay, arv, arv_delay, airtime, distance))\n",
      "\n",
      "    @classmethod\n",
      "    def _make(cls, iterable, new=tuple.__new__, len=len):\n",
      "        'Make a new Flight object from a sequence or iterable'\n",
      "        result = new(cls, iterable)\n",
      "        if len(result) != 11:\n",
      "            raise TypeError('Expected 11 arguments, got %d' % len(result))\n",
      "        return result\n",
      "\n",
      "    def __repr__(self):\n",
      "        'Return a nicely formatted representation string'\n",
      "        return 'Flight(date=%r, airline=%r, flightnum=%r, origin=%r, dest=%r, dep=%r, dep_delay=%r, arv=%r, arv_delay=%r, airtime=%r, distance=%r)' % self\n",
      "\n",
      "    def _asdict(self):\n",
      "        'Return a new OrderedDict which maps field names to their values'\n",
      "        return OrderedDict(zip(self._fields, self))\n",
      "\n",
      "    def _replace(_self, **kwds):\n",
      "        'Return a new Flight object replacing specified fields with new values'\n",
      "        result = _self._make(map(kwds.pop, ('date', 'airline', 'flightnum', 'origin', 'dest', 'dep', 'dep_delay', 'arv', 'arv_delay', 'airtime', 'distance'), _self))\n",
      "        if kwds:\n",
      "            raise ValueError('Got unexpected field names: %r' % kwds.keys())\n",
      "        return result\n",
      "\n",
      "    def __getnewargs__(self):\n",
      "        'Return self as a plain tuple.  Used by copy and pickle.'\n",
      "        return tuple(self)\n",
      "\n",
      "    __dict__ = _property(_asdict)\n",
      "\n",
      "    def __getstate__(self):\n",
      "        'Exclude the OrderedDict from pickling'\n",
      "        pass\n",
      "\n",
      "    date = _property(_itemgetter(0), doc='Alias for field number 0')\n",
      "\n",
      "    airline = _property(_itemgetter(1), doc='Alias for field number 1')\n",
      "\n",
      "    flightnum = _property(_itemgetter(2), doc='Alias for field number 2')\n",
      "\n",
      "    origin = _property(_itemgetter(3), doc='Alias for field number 3')\n",
      "\n",
      "    dest = _property(_itemgetter(4), doc='Alias for field number 4')\n",
      "\n",
      "    dep = _property(_itemgetter(5), doc='Alias for field number 5')\n",
      "\n",
      "    dep_delay = _property(_itemgetter(6), doc='Alias for field number 6')\n",
      "\n",
      "    arv = _property(_itemgetter(7), doc='Alias for field number 7')\n",
      "\n",
      "    arv_delay = _property(_itemgetter(8), doc='Alias for field number 8')\n",
      "\n",
      "    airtime = _property(_itemgetter(9), doc='Alias for field number 9')\n",
      "\n",
      "    distance = _property(_itemgetter(10), doc='Alias for field number 10')\n",
      "\n",
      "\n"
     ]
    }
   ],
   "source": [
    "from datetime import datetime \n",
    "from collections import namedtuple \n",
    "\n",
    "fields = ('date','airline','flightnum','origin','dest','dep','dep_delay','arv','arv_delay','airtime','distance')\n",
    "Flight = namedtuple('Flight',fields,verbose=True)\n",
    "DATE_FMT = \"%Y-%m-%d\"\n",
    "TIME_FMT = \"%H%M\"\n",
    "\n",
    "def parse(row):\n",
    "    row[0] = datetime.strptime(row[0], DATE_FMT).date()\n",
    "    row[5] = datetime.strptime(row[5], TIME_FMT).time()\n",
    "    row[6] = float(row[6])\n",
    "    row[7] = datetime.strptime(row[7], TIME_FMT).time()\n",
    "    row[8] = float(row[8])\n",
    "    row[9] = float(row[9])\n",
    "    row[10] = float(row[10])\n",
    "    return Flight(*row[:11])"
   ]
  },
  {
   "cell_type": "code",
   "execution_count": 60,
   "metadata": {
    "collapsed": true
   },
   "outputs": [],
   "source": [
    "flightsParsed=flight.map(lambda x: x.split(\",\")).map(parse)"
   ]
  },
  {
   "cell_type": "code",
   "execution_count": 61,
   "metadata": {
    "collapsed": false
   },
   "outputs": [
    {
     "data": {
      "text/plain": [
       "Flight(date=datetime.date(2014, 4, 1), airline=u'19805', flightnum=u'1', origin=u'JFK', dest=u'LAX', dep=datetime.time(8, 54), dep_delay=-6.0, arv=datetime.time(12, 17), arv_delay=2.0, airtime=355.0, distance=2475.0)"
      ]
     },
     "execution_count": 61,
     "metadata": {},
     "output_type": "execute_result"
    }
   ],
   "source": [
    "flightsParsed.first()"
   ]
  },
  {
   "cell_type": "code",
   "execution_count": 63,
   "metadata": {
    "collapsed": false
   },
   "outputs": [],
   "source": [
    "#menghitung rata-rata jarak yang ditempuh dalam sebuah penerbangan\n",
    "totalDistance=flightsParsed.map(lambda x:x.distance).reduce(lambda x,y:x+y)"
   ]
  },
  {
   "cell_type": "code",
   "execution_count": 65,
   "metadata": {
    "collapsed": false
   },
   "outputs": [],
   "source": [
    "avgDistance=totalDistance/flightsParsed.count()"
   ]
  },
  {
   "cell_type": "code",
   "execution_count": 66,
   "metadata": {
    "collapsed": false
   },
   "outputs": [
    {
     "data": {
      "text/plain": [
       "794.8585013871385"
      ]
     },
     "execution_count": 66,
     "metadata": {},
     "output_type": "execute_result"
    }
   ],
   "source": [
    "avgDistance"
   ]
  },
  {
   "cell_type": "code",
   "execution_count": 67,
   "metadata": {
    "collapsed": false
   },
   "outputs": [
    {
     "data": {
      "text/plain": [
       "0.3753871510922012"
      ]
     },
     "execution_count": 67,
     "metadata": {},
     "output_type": "execute_result"
    }
   ],
   "source": [
    "#mencari persentasi delay penerbangan\n",
    "flightsParsed.filter(lambda x:x.dep_delay>0).count()/float(flightsParsed.count())"
   ]
  },
  {
   "cell_type": "code",
   "execution_count": 68,
   "metadata": {
    "collapsed": false
   },
   "outputs": [
    {
     "data": {
      "text/plain": [
       "PythonRDD[31] at RDD at PythonRDD.scala:48"
      ]
     },
     "execution_count": 68,
     "metadata": {},
     "output_type": "execute_result"
    }
   ],
   "source": [
    "flightsParsed.persist()"
   ]
  },
  {
   "cell_type": "code",
   "execution_count": 69,
   "metadata": {
    "collapsed": true
   },
   "outputs": [],
   "source": [
    "sumCount=flightsParsed.map(lambda x:x.dep_delay).aggregate((0,0),(lambda acc,value: (acc[0]+value, acc[1]+1)),(lambda acc1,acc2:(acc1[0]+acc2[0],acc1[1]+acc2[1])))"
   ]
  },
  {
   "cell_type": "code",
   "execution_count": 70,
   "metadata": {
    "collapsed": false
   },
   "outputs": [
    {
     "name": "stdout",
     "output_type": "stream",
     "text": [
      "The average delay is 8.31387704689\n"
     ]
    }
   ],
   "source": [
    "print \"The average delay is \"+str(sumCount[0]/float(sumCount[1]))"
   ]
  },
  {
   "cell_type": "code",
   "execution_count": 71,
   "metadata": {
    "collapsed": false
   },
   "outputs": [
    {
     "data": {
      "text/plain": [
       "defaultdict(int,\n",
       "            {0: 452963,\n",
       "             1: 16016,\n",
       "             2: 4893,\n",
       "             3: 1729,\n",
       "             4: 701,\n",
       "             5: 249,\n",
       "             6: 113,\n",
       "             7: 66,\n",
       "             8: 43,\n",
       "             9: 26,\n",
       "             10: 15,\n",
       "             11: 12,\n",
       "             12: 9,\n",
       "             13: 15,\n",
       "             14: 13,\n",
       "             15: 4,\n",
       "             17: 2,\n",
       "             20: 4,\n",
       "             21: 3,\n",
       "             24: 3,\n",
       "             25: 1,\n",
       "             28: 1})"
      ]
     },
     "execution_count": 71,
     "metadata": {},
     "output_type": "execute_result"
    }
   ],
   "source": [
    "flightsParsed.map(lambda x:int(x.dep_delay/60)).countByValue()"
   ]
  },
  {
   "cell_type": "code",
   "execution_count": null,
   "metadata": {
    "collapsed": true
   },
   "outputs": [],
   "source": []
  }
 ],
 "metadata": {
  "kernelspec": {
   "display_name": "Python 2",
   "language": "python",
   "name": "python2"
  },
  "language_info": {
   "codemirror_mode": {
    "name": "ipython",
    "version": 2
   },
   "file_extension": ".py",
   "mimetype": "text/x-python",
   "name": "python",
   "nbconvert_exporter": "python",
   "pygments_lexer": "ipython2",
   "version": "2.7.13"
  }
 },
 "nbformat": 4,
 "nbformat_minor": 2
}
