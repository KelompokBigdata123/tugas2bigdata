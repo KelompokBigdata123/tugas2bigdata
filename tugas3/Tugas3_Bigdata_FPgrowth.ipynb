{
 "cells": [
  {
   "cell_type": "code",
   "execution_count": 2,
   "metadata": {
    "collapsed": false
   },
   "outputs": [
    {
     "name": "stdout",
     "output_type": "stream",
     "text": [
      "<pyspark.context.SparkContext object at 0x00000000064EF4E0>\n"
     ]
    }
   ],
   "source": [
    "# Konfigurasi Spark\n",
    "import os\n",
    "import sys\n",
    "\n",
    "# 1. Mengeset variabel yang menyimpan lokasi di mana Spark diinstal\n",
    "spark_path = \"E:\\spark\"\n",
    "\n",
    "# 2. Menentukan environment variable SPARK_HOME\n",
    "os.environ['SPARK_HOME'] = spark_path\n",
    "\n",
    "# 3. Simpan lokasi winutils.exe sebagai environment variable HADOOP_HOME\n",
    "os.environ['HADOOP_HOME'] = spark_path\n",
    "\n",
    "# 4. Lokasi Python yang dijalankan --> punya Anaconda\n",
    "#    Apabila Python yang diinstall hanya Anaconda, maka tidak perlu menjalankan baris ini.\n",
    "os.environ['PYSPARK_PYTHON'] = sys.executable\n",
    "\n",
    "# 5. Konfigurasi path library PySpark\n",
    "sys.path.append(spark_path + \"/bin\")\n",
    "sys.path.append(spark_path + \"/python\")\n",
    "sys.path.append(spark_path + \"/python/pyspark/\")\n",
    "sys.path.append(spark_path + \"/python/lib\")\n",
    "sys.path.append(spark_path + \"/python/lib/pyspark.zip\")\n",
    "sys.path.append(spark_path + \"/python/lib/py4j-0.10.4-src.zip\")\n",
    "\n",
    "# 6. Import library Spark\n",
    "#    Dua library yang WAJIB di-import adalah **SparkContext** dan **SparkConf**.\n",
    "from pyspark import SparkContext\n",
    "from pyspark import SparkConf\n",
    "\n",
    "# Setting konfigurasi (opsional)\n",
    "conf = SparkConf()\n",
    "conf.set(\"spark.executor.memory\", \"2g\")\n",
    "conf.set(\"spark.cores.max\", \"4\")\n",
    "\n",
    "sc = SparkContext(\"local\", conf=conf)\n",
    "#    Apabila berhasil, maka ketika sc di-print akan mengeluarkan nilai <pyspark.context.SparkContext object>\n",
    "print sc\n"
   ]
  },
  {
   "cell_type": "code",
   "execution_count": 7,
   "metadata": {
    "collapsed": false,
    "scrolled": false
   },
   "outputs": [
    {
     "name": "stdout",
     "output_type": "stream",
     "text": [
      "FreqItemset(items=[u'z'], freq=5)\n",
      "FreqItemset(items=[u'x'], freq=4)\n",
      "FreqItemset(items=[u'x', u'z'], freq=3)\n",
      "FreqItemset(items=[u'y'], freq=3)\n",
      "FreqItemset(items=[u'y', u'x'], freq=3)\n",
      "FreqItemset(items=[u'y', u'x', u'z'], freq=3)\n",
      "FreqItemset(items=[u'y', u'z'], freq=3)\n",
      "FreqItemset(items=[u'r'], freq=3)\n",
      "FreqItemset(items=[u'r', u'x'], freq=2)\n",
      "FreqItemset(items=[u'r', u'z'], freq=2)\n",
      "FreqItemset(items=[u's'], freq=3)\n",
      "FreqItemset(items=[u's', u'y'], freq=2)\n",
      "FreqItemset(items=[u's', u'y', u'x'], freq=2)\n",
      "FreqItemset(items=[u's', u'y', u'x', u'z'], freq=2)\n",
      "FreqItemset(items=[u's', u'y', u'z'], freq=2)\n",
      "FreqItemset(items=[u's', u'x'], freq=3)\n",
      "FreqItemset(items=[u's', u'x', u'z'], freq=2)\n",
      "FreqItemset(items=[u's', u'z'], freq=2)\n",
      "FreqItemset(items=[u't'], freq=3)\n",
      "FreqItemset(items=[u't', u'y'], freq=3)\n",
      "FreqItemset(items=[u't', u'y', u'x'], freq=3)\n",
      "FreqItemset(items=[u't', u'y', u'x', u'z'], freq=3)\n",
      "FreqItemset(items=[u't', u'y', u'z'], freq=3)\n",
      "FreqItemset(items=[u't', u's'], freq=2)\n",
      "FreqItemset(items=[u't', u's', u'y'], freq=2)\n",
      "FreqItemset(items=[u't', u's', u'y', u'x'], freq=2)\n",
      "FreqItemset(items=[u't', u's', u'y', u'x', u'z'], freq=2)\n",
      "FreqItemset(items=[u't', u's', u'y', u'z'], freq=2)\n",
      "FreqItemset(items=[u't', u's', u'x'], freq=2)\n",
      "FreqItemset(items=[u't', u's', u'x', u'z'], freq=2)\n",
      "FreqItemset(items=[u't', u's', u'z'], freq=2)\n",
      "FreqItemset(items=[u't', u'x'], freq=3)\n",
      "FreqItemset(items=[u't', u'x', u'z'], freq=3)\n",
      "FreqItemset(items=[u't', u'z'], freq=3)\n",
      "FreqItemset(items=[u'p'], freq=2)\n",
      "FreqItemset(items=[u'p', u'r'], freq=2)\n",
      "FreqItemset(items=[u'p', u'r', u'z'], freq=2)\n",
      "FreqItemset(items=[u'p', u'z'], freq=2)\n",
      "FreqItemset(items=[u'q'], freq=2)\n",
      "FreqItemset(items=[u'q', u'y'], freq=2)\n",
      "FreqItemset(items=[u'q', u'y', u'x'], freq=2)\n",
      "FreqItemset(items=[u'q', u'y', u'x', u'z'], freq=2)\n",
      "FreqItemset(items=[u'q', u'y', u'z'], freq=2)\n",
      "FreqItemset(items=[u'q', u't'], freq=2)\n",
      "FreqItemset(items=[u'q', u't', u'y'], freq=2)\n",
      "FreqItemset(items=[u'q', u't', u'y', u'x'], freq=2)\n",
      "FreqItemset(items=[u'q', u't', u'y', u'x', u'z'], freq=2)\n",
      "FreqItemset(items=[u'q', u't', u'y', u'z'], freq=2)\n",
      "FreqItemset(items=[u'q', u't', u'x'], freq=2)\n",
      "FreqItemset(items=[u'q', u't', u'x', u'z'], freq=2)\n",
      "FreqItemset(items=[u'q', u't', u'z'], freq=2)\n",
      "FreqItemset(items=[u'q', u'x'], freq=2)\n",
      "FreqItemset(items=[u'q', u'x', u'z'], freq=2)\n",
      "FreqItemset(items=[u'q', u'z'], freq=2)\n"
     ]
    }
   ],
   "source": [
    "from pyspark.mllib.fpm import FPGrowth\n",
    "\n",
    "data = sc.textFile(\"E:\\\\spark\\\\data\\\\mllib\\\\sample_fpgrowth.txt\")\n",
    "transactions = data.map(lambda line: line.strip().split(' '))\n",
    "model = FPGrowth.train(transactions, minSupport=0.2, numPartitions=10)\n",
    "result = model.freqItemsets().collect()\n",
    "for fi in result:\n",
    "    print(fi)\n"
   ]
  },
  {
   "cell_type": "code",
   "execution_count": 8,
   "metadata": {
    "collapsed": false,
    "scrolled": true
   },
   "outputs": [
    {
     "name": "stdout",
     "output_type": "stream",
     "text": [
      "FreqItemset(items=[u'Kuah'], freq=1)\n",
      "FreqItemset(items=[u'Nasi'], freq=11)\n",
      "FreqItemset(items=[u'Mie'], freq=1)\n",
      "FreqItemset(items=[u'Mie', u'Kuah'], freq=1)\n",
      "FreqItemset(items=[u'TidakMakan'], freq=5)\n",
      "FreqItemset(items=[u'Krawu'], freq=3)\n",
      "FreqItemset(items=[u'Krawu', u'Nasi'], freq=3)\n",
      "FreqItemset(items=[u'Roti'], freq=1)\n",
      "FreqItemset(items=[u'Campur'], freq=1)\n",
      "FreqItemset(items=[u'Campur', u'Nasi'], freq=1)\n",
      "FreqItemset(items=[u'Empal'], freq=3)\n",
      "FreqItemset(items=[u'Empal', u'Nasi'], freq=2)\n",
      "FreqItemset(items=[u'nasi'], freq=1)\n",
      "FreqItemset(items=[u'nasi', u'Empal'], freq=1)\n",
      "FreqItemset(items=[u'Ayam'], freq=2)\n",
      "FreqItemset(items=[u'Ayam', u'Nasi'], freq=1)\n",
      "FreqItemset(items=[u'Kuning'], freq=2)\n",
      "FreqItemset(items=[u'Kuning', u'Nasi'], freq=2)\n",
      "FreqItemset(items=[u'Makan'], freq=1)\n",
      "FreqItemset(items=[u'Makan', u'Tidak'], freq=1)\n",
      "FreqItemset(items=[u'Goreng'], freq=1)\n",
      "FreqItemset(items=[u'Goreng', u'Nasi'], freq=1)\n",
      "FreqItemset(items=[u'Bakar'], freq=1)\n",
      "FreqItemset(items=[u'Bakar', u'Nasi'], freq=1)\n",
      "FreqItemset(items=[u'Bubur'], freq=1)\n",
      "FreqItemset(items=[u'Bubur', u'Ayam'], freq=1)\n",
      "FreqItemset(items=[u'Tidak'], freq=1)\n"
     ]
    }
   ],
   "source": [
    "#Dataset Albert Bungaran Manik\n",
    "from pyspark.mllib.fpm import FPGrowth\n",
    "data = sc.textFile(\"C:\\\\Users\\\\USER\\\\Documents\\\\Big data\\\\Data_setMakananKel5.txt\")\n",
    "\n",
    "transactions = data.map(lambda line: line.strip().split(' '))\n",
    "model = FPGrowth.train(transactions, minSupport=0.0, numPartitions=10)\n",
    "result = model.freqItemsets().collect()\n",
    "for fi in result:\n",
    "    print(fi)\n"
   ]
  },
  {
   "cell_type": "code",
   "execution_count": 7,
   "metadata": {
    "collapsed": false
   },
   "outputs": [
    {
     "name": "stdout",
     "output_type": "stream",
     "text": [
      "FreqItemset(items=[u'bebek'], freq=1)\n",
      "FreqItemset(items=[u'bebek', u'Nasi'], freq=1)\n",
      "FreqItemset(items=[u'Nasi'], freq=14)\n",
      "FreqItemset(items=[u'tidakmakan'], freq=1)\n",
      "FreqItemset(items=[u'TidakMakan'], freq=5)\n",
      "FreqItemset(items=[u'Soto'], freq=2)\n",
      "FreqItemset(items=[u'Soto', u'Nasi'], freq=2)\n",
      "FreqItemset(items=[u'Rawon'], freq=1)\n",
      "FreqItemset(items=[u'Rawon', u'Nasi'], freq=1)\n",
      "FreqItemset(items=[u'Pecel'], freq=1)\n",
      "FreqItemset(items=[u'Pecel', u'Nasi'], freq=1)\n",
      "FreqItemset(items=[u'Ayam'], freq=2)\n",
      "FreqItemset(items=[u'Ayam', u'Nasi'], freq=2)\n",
      "FreqItemset(items=[u'soto'], freq=2)\n",
      "FreqItemset(items=[u'soto', u'Nasi'], freq=2)\n",
      "FreqItemset(items=[u'Ikan'], freq=2)\n",
      "FreqItemset(items=[u'Ikan', u'Nasi'], freq=2)\n",
      "FreqItemset(items=[u'Tidakmakan'], freq=1)\n",
      "FreqItemset(items=[u'pecel'], freq=1)\n",
      "FreqItemset(items=[u'pecel', u'Nasi'], freq=1)\n",
      "FreqItemset(items=[u'Bebek'], freq=1)\n",
      "FreqItemset(items=[u'Bebek', u'Nasi'], freq=1)\n",
      "FreqItemset(items=[u'ayam'], freq=1)\n",
      "FreqItemset(items=[u'ayam', u'Nasi'], freq=1)\n"
     ]
    }
   ],
   "source": [
    "#Dataset Agung \n",
    "from pyspark.mllib.fpm import FPGrowth\n",
    "data = sc.textFile(\"C:\\\\Users\\\\USER\\\\Documents\\\\Big data\\\\data_set1.txt\")\n",
    "\n",
    "transactions = data.map(lambda line: line.strip().split(' '))\n",
    "model = FPGrowth.train(transactions, minSupport=0.02, numPartitions=10)\n",
    "result = model.freqItemsets().collect()\n",
    "for fi in result:\n",
    "    print(fi)"
   ]
  },
  {
   "cell_type": "code",
   "execution_count": 6,
   "metadata": {
    "collapsed": false
   },
   "outputs": [
    {
     "name": "stdout",
     "output_type": "stream",
     "text": [
      "FreqItemset(items=[u'Martabak'], freq=1)\n",
      "FreqItemset(items=[u'Nasi'], freq=7)\n",
      "FreqItemset(items=[u'Roti'], freq=5)\n",
      "FreqItemset(items=[u'Goreng'], freq=4)\n",
      "FreqItemset(items=[u'Goreng', u'Nasi'], freq=3)\n",
      "FreqItemset(items=[u'Ayam'], freq=4)\n",
      "FreqItemset(items=[u'Ayam', u'Nasi'], freq=2)\n",
      "FreqItemset(items=[u'Mie'], freq=2)\n",
      "FreqItemset(items=[u'Mie', u'Goreng'], freq=1)\n",
      "FreqItemset(items=[u'Mie', u'Ayam'], freq=1)\n",
      "FreqItemset(items=[u'TidakMakan'], freq=2)\n",
      "FreqItemset(items=[u'Bakar'], freq=1)\n",
      "FreqItemset(items=[u'Bakar', u'Nasi'], freq=1)\n",
      "FreqItemset(items=[u'Tahu'], freq=1)\n",
      "FreqItemset(items=[u'Tahu', u'Nasi'], freq=1)\n",
      "FreqItemset(items=[u'bubur'], freq=1)\n",
      "FreqItemset(items=[u'bubur', u'Ayam'], freq=1)\n",
      "FreqItemset(items=[u'Tempe'], freq=1)\n",
      "FreqItemset(items=[u'Tempe', u'Tahu'], freq=1)\n",
      "FreqItemset(items=[u'Tempe', u'Tahu', u'Nasi'], freq=1)\n",
      "FreqItemset(items=[u'Tempe', u'Nasi'], freq=1)\n"
     ]
    }
   ],
   "source": [
    "#Dataset Fidi \n",
    "from pyspark.mllib.fpm import FPGrowth\n",
    "data = sc.textFile(\"C:\\\\Users\\\\USER\\\\Documents\\\\Big data\\\\data_set2.txt\")\n",
    "\n",
    "transactions = data.map(lambda line: line.strip().split(' '))\n",
    "model = FPGrowth.train(transactions, minSupport=0.02, numPartitions=10)\n",
    "result = model.freqItemsets().collect()\n",
    "for fi in result:\n",
    "    print(fi)"
   ]
  },
  {
   "cell_type": "code",
   "execution_count": 5,
   "metadata": {
    "collapsed": false
   },
   "outputs": [
    {
     "name": "stdout",
     "output_type": "stream",
     "text": [
      "FreqItemset(items=[u'kuning'], freq=4)\n",
      "FreqItemset(items=[u'kuning', u'nasi'], freq=4)\n",
      "FreqItemset(items=[u'nasi'], freq=46)\n",
      "FreqItemset(items=[u'ikan'], freq=4)\n",
      "FreqItemset(items=[u'ikan', u'bakar'], freq=3)\n",
      "FreqItemset(items=[u'ikan', u'bakar', u'nasi'], freq=3)\n",
      "FreqItemset(items=[u'ikan', u'nasi'], freq=4)\n",
      "FreqItemset(items=[u'tidakmakan'], freq=21)\n",
      "FreqItemset(items=[u'ayam'], freq=11)\n",
      "FreqItemset(items=[u'ayam', u'nasi'], freq=6)\n",
      "FreqItemset(items=[u'soto'], freq=3)\n",
      "FreqItemset(items=[u'soto', u'nasi'], freq=3)\n",
      "FreqItemset(items=[u'krawu'], freq=3)\n",
      "FreqItemset(items=[u'krawu', u'nasi'], freq=3)\n",
      "FreqItemset(items=[u'goreng'], freq=11)\n",
      "FreqItemset(items=[u'goreng', u'ayam'], freq=4)\n",
      "FreqItemset(items=[u'goreng', u'ayam', u'nasi'], freq=4)\n",
      "FreqItemset(items=[u'goreng', u'nasi'], freq=10)\n",
      "FreqItemset(items=[u'bubur'], freq=3)\n",
      "FreqItemset(items=[u'bubur', u'ayam'], freq=3)\n",
      "FreqItemset(items=[u'mie'], freq=7)\n",
      "FreqItemset(items=[u'mie', u'ayam'], freq=2)\n",
      "FreqItemset(items=[u'roti'], freq=7)\n",
      "FreqItemset(items=[u'empal'], freq=3)\n",
      "FreqItemset(items=[u'empal', u'nasi'], freq=3)\n",
      "FreqItemset(items=[u'bebek'], freq=2)\n",
      "FreqItemset(items=[u'bebek', u'nasi'], freq=2)\n",
      "FreqItemset(items=[u'telur'], freq=6)\n",
      "FreqItemset(items=[u'telur', u'nasi'], freq=6)\n",
      "FreqItemset(items=[u'semur'], freq=2)\n",
      "FreqItemset(items=[u'semur', u'telur'], freq=2)\n",
      "FreqItemset(items=[u'semur', u'telur', u'nasi'], freq=2)\n",
      "FreqItemset(items=[u'semur', u'nasi'], freq=2)\n",
      "FreqItemset(items=[u'bakar'], freq=5)\n",
      "FreqItemset(items=[u'bakar', u'nasi'], freq=5)\n",
      "FreqItemset(items=[u'dadar'], freq=5)\n",
      "FreqItemset(items=[u'dadar', u'telur'], freq=4)\n",
      "FreqItemset(items=[u'dadar', u'telur', u'nasi'], freq=4)\n",
      "FreqItemset(items=[u'dadar', u'nasi'], freq=5)\n",
      "FreqItemset(items=[u'tempe'], freq=2)\n",
      "FreqItemset(items=[u'tempe', u'nasi'], freq=2)\n",
      "FreqItemset(items=[u'kuah'], freq=4)\n",
      "FreqItemset(items=[u'kuah', u'mie'], freq=4)\n"
     ]
    }
   ],
   "source": [
    "#Dataset Gabungan\n",
    "from pyspark.mllib.fpm import FPGrowth\n",
    "data = sc.textFile(\"C:\\\\Users\\\\USER\\\\Documents\\\\Big data\\\\dataset_coba.txt\")\n",
    "\n",
    "transactions = data.map(lambda line: line.strip().split(' '))\n",
    "model = FPGrowth.train(transactions, minSupport=0.02, numPartitions=10)\n",
    "result = model.freqItemsets().collect()\n",
    "for fi in result:\n",
    "    print(fi)"
   ]
  },
  {
   "cell_type": "code",
   "execution_count": null,
   "metadata": {
    "collapsed": true
   },
   "outputs": [],
   "source": []
  }
 ],
 "metadata": {
  "kernelspec": {
   "display_name": "Python 2",
   "language": "python",
   "name": "python2"
  },
  "language_info": {
   "codemirror_mode": {
    "name": "ipython",
    "version": 2
   },
   "file_extension": ".py",
   "mimetype": "text/x-python",
   "name": "python",
   "nbconvert_exporter": "python",
   "pygments_lexer": "ipython2",
   "version": "2.7.13"
  }
 },
 "nbformat": 4,
 "nbformat_minor": 2
}
