{
 "cells": [
  {
   "cell_type": "code",
   "execution_count": 3,
   "metadata": {
    "collapsed": false
   },
   "outputs": [
    {
     "name": "stdout",
     "output_type": "stream",
     "text": [
      "<pyspark.context.SparkContext object at 0x00000000064844E0>\n"
     ]
    }
   ],
   "source": [
    "# Konfigurasi Spark\n",
    "import os\n",
    "import sys\n",
    "\n",
    "# 1. Mengeset variabel yang menyimpan lokasi di mana Spark diinstal\n",
    "spark_path = \"E:\\spark\"\n",
    "\n",
    "# 2. Menentukan environment variable SPARK_HOME\n",
    "os.environ['SPARK_HOME'] = spark_path\n",
    "\n",
    "# 3. Simpan lokasi winutils.exe sebagai environment variable HADOOP_HOME\n",
    "os.environ['HADOOP_HOME'] = spark_path\n",
    "\n",
    "# 4. Lokasi Python yang dijalankan --> punya Anaconda\n",
    "#    Apabila Python yang diinstall hanya Anaconda, maka tidak perlu menjalankan baris ini.\n",
    "os.environ['PYSPARK_PYTHON'] = sys.executable\n",
    "\n",
    "# 5. Konfigurasi path library PySpark\n",
    "sys.path.append(spark_path + \"/bin\")\n",
    "sys.path.append(spark_path + \"/python\")\n",
    "sys.path.append(spark_path + \"/python/pyspark/\")\n",
    "sys.path.append(spark_path + \"/python/lib\")\n",
    "sys.path.append(spark_path + \"/python/lib/pyspark.zip\")\n",
    "sys.path.append(spark_path + \"/python/lib/py4j-0.10.4-src.zip\")\n",
    "\n",
    "# 6. Import library Spark\n",
    "#    Dua library yang WAJIB di-import adalah **SparkContext** dan **SparkConf**.\n",
    "from pyspark import SparkContext\n",
    "from pyspark import SparkConf\n",
    "\n",
    "# Setting konfigurasi (opsional)\n",
    "conf = SparkConf()\n",
    "conf.set(\"spark.executor.memory\", \"2g\")\n",
    "conf.set(\"spark.cores.max\", \"4\")\n",
    "\n",
    "sc = SparkContext(\"local\", conf=conf)\n",
    "#    Apabila berhasil, maka ketika sc di-print akan mengeluarkan nilai <pyspark.context.SparkContext object>\n",
    "print sc\n"
   ]
  },
  {
   "cell_type": "code",
   "execution_count": 7,
   "metadata": {
    "collapsed": false,
    "scrolled": false
   },
   "outputs": [
    {
     "name": "stdout",
     "output_type": "stream",
     "text": [
      "FreqItemset(items=[u'z'], freq=5)\n",
      "FreqItemset(items=[u'x'], freq=4)\n",
      "FreqItemset(items=[u'x', u'z'], freq=3)\n",
      "FreqItemset(items=[u'y'], freq=3)\n",
      "FreqItemset(items=[u'y', u'x'], freq=3)\n",
      "FreqItemset(items=[u'y', u'x', u'z'], freq=3)\n",
      "FreqItemset(items=[u'y', u'z'], freq=3)\n",
      "FreqItemset(items=[u'r'], freq=3)\n",
      "FreqItemset(items=[u'r', u'x'], freq=2)\n",
      "FreqItemset(items=[u'r', u'z'], freq=2)\n",
      "FreqItemset(items=[u's'], freq=3)\n",
      "FreqItemset(items=[u's', u'y'], freq=2)\n",
      "FreqItemset(items=[u's', u'y', u'x'], freq=2)\n",
      "FreqItemset(items=[u's', u'y', u'x', u'z'], freq=2)\n",
      "FreqItemset(items=[u's', u'y', u'z'], freq=2)\n",
      "FreqItemset(items=[u's', u'x'], freq=3)\n",
      "FreqItemset(items=[u's', u'x', u'z'], freq=2)\n",
      "FreqItemset(items=[u's', u'z'], freq=2)\n",
      "FreqItemset(items=[u't'], freq=3)\n",
      "FreqItemset(items=[u't', u'y'], freq=3)\n",
      "FreqItemset(items=[u't', u'y', u'x'], freq=3)\n",
      "FreqItemset(items=[u't', u'y', u'x', u'z'], freq=3)\n",
      "FreqItemset(items=[u't', u'y', u'z'], freq=3)\n",
      "FreqItemset(items=[u't', u's'], freq=2)\n",
      "FreqItemset(items=[u't', u's', u'y'], freq=2)\n",
      "FreqItemset(items=[u't', u's', u'y', u'x'], freq=2)\n",
      "FreqItemset(items=[u't', u's', u'y', u'x', u'z'], freq=2)\n",
      "FreqItemset(items=[u't', u's', u'y', u'z'], freq=2)\n",
      "FreqItemset(items=[u't', u's', u'x'], freq=2)\n",
      "FreqItemset(items=[u't', u's', u'x', u'z'], freq=2)\n",
      "FreqItemset(items=[u't', u's', u'z'], freq=2)\n",
      "FreqItemset(items=[u't', u'x'], freq=3)\n",
      "FreqItemset(items=[u't', u'x', u'z'], freq=3)\n",
      "FreqItemset(items=[u't', u'z'], freq=3)\n",
      "FreqItemset(items=[u'p'], freq=2)\n",
      "FreqItemset(items=[u'p', u'r'], freq=2)\n",
      "FreqItemset(items=[u'p', u'r', u'z'], freq=2)\n",
      "FreqItemset(items=[u'p', u'z'], freq=2)\n",
      "FreqItemset(items=[u'q'], freq=2)\n",
      "FreqItemset(items=[u'q', u'y'], freq=2)\n",
      "FreqItemset(items=[u'q', u'y', u'x'], freq=2)\n",
      "FreqItemset(items=[u'q', u'y', u'x', u'z'], freq=2)\n",
      "FreqItemset(items=[u'q', u'y', u'z'], freq=2)\n",
      "FreqItemset(items=[u'q', u't'], freq=2)\n",
      "FreqItemset(items=[u'q', u't', u'y'], freq=2)\n",
      "FreqItemset(items=[u'q', u't', u'y', u'x'], freq=2)\n",
      "FreqItemset(items=[u'q', u't', u'y', u'x', u'z'], freq=2)\n",
      "FreqItemset(items=[u'q', u't', u'y', u'z'], freq=2)\n",
      "FreqItemset(items=[u'q', u't', u'x'], freq=2)\n",
      "FreqItemset(items=[u'q', u't', u'x', u'z'], freq=2)\n",
      "FreqItemset(items=[u'q', u't', u'z'], freq=2)\n",
      "FreqItemset(items=[u'q', u'x'], freq=2)\n",
      "FreqItemset(items=[u'q', u'x', u'z'], freq=2)\n",
      "FreqItemset(items=[u'q', u'z'], freq=2)\n"
     ]
    }
   ],
   "source": [
    "from pyspark.mllib.fpm import FPGrowth\n",
    "\n",
    "data = sc.textFile(\"E:\\\\spark\\\\data\\\\mllib\\\\sample_fpgrowth.txt\")\n",
    "transactions = data.map(lambda line: line.strip().split(' '))\n",
    "model = FPGrowth.train(transactions, minSupport=0.2, numPartitions=10)\n",
    "result = model.freqItemsets().collect()\n",
    "for fi in result:\n",
    "    print(fi)\n"
   ]
  },
  {
   "cell_type": "code",
   "execution_count": 56,
   "metadata": {
    "collapsed": false,
    "scrolled": true
   },
   "outputs": [
    {
     "name": "stdout",
     "output_type": "stream",
     "text": [
      "FreqItemset(items=[u'NasiBakar'], freq=1)\n",
      "FreqItemset(items=[u'TidakMakan'], freq=6)\n",
      "FreqItemset(items=[u'NasiAyam'], freq=1)\n",
      "FreqItemset(items=[u'NasiKrawu'], freq=3)\n",
      "FreqItemset(items=[u'NasiEmpal'], freq=2)\n",
      "FreqItemset(items=[u'NasiKuning'], freq=2)\n",
      "FreqItemset(items=[u'NasiCampur'], freq=1)\n",
      "FreqItemset(items=[u'BuburAyam'], freq=1)\n",
      "FreqItemset(items=[u'nasiEmpal'], freq=1)\n",
      "FreqItemset(items=[u'Roti'], freq=1)\n",
      "FreqItemset(items=[u'MieKuah'], freq=1)\n",
      "FreqItemset(items=[u'NasiGoreng'], freq=1)\n"
     ]
    }
   ],
   "source": [
    "#Dataset Albert Bungaran Manik\n",
    "from pyspark.mllib.fpm import FPGrowth\n",
    "data = sc.textFile(\"C:\\\\Users\\\\USER\\\\Documents\\\\Big data\\\\Data_setMakananKel5.txt\")\n",
    "\n",
    "transactions = data.map(lambda line: line.strip().split(' '))\n",
    "model = FPGrowth.train(transactions, minSupport=0.0, numPartitions=10)\n",
    "result = model.freqItemsets().collect()\n",
    "for fi in result:\n",
    "    print(fi)\n"
   ]
  },
  {
   "cell_type": "code",
   "execution_count": 58,
   "metadata": {
    "collapsed": false
   },
   "outputs": [
    {
     "name": "stdout",
     "output_type": "stream",
     "text": [
      "FreqItemset(items=[u'tidakmakan'], freq=1)\n",
      "FreqItemset(items=[u'TidakMakan'], freq=5)\n",
      "FreqItemset(items=[u'NasiBebek'], freq=1)\n",
      "FreqItemset(items=[u'NasiIkan'], freq=2)\n",
      "FreqItemset(items=[u'NasiSoto'], freq=2)\n",
      "FreqItemset(items=[u'Nasiayam'], freq=1)\n",
      "FreqItemset(items=[u'NasiAyam'], freq=2)\n",
      "FreqItemset(items=[u'Nasisoto'], freq=2)\n",
      "FreqItemset(items=[u'Nasibebek'], freq=1)\n",
      "FreqItemset(items=[u'Tidakmakan'], freq=1)\n",
      "FreqItemset(items=[u'NasiPecel'], freq=1)\n",
      "FreqItemset(items=[u'NasiRawon'], freq=1)\n",
      "FreqItemset(items=[u'Nasipecel'], freq=1)\n"
     ]
    }
   ],
   "source": [
    "#Dataset Agung \n",
    "from pyspark.mllib.fpm import FPGrowth\n",
    "data = sc.textFile(\"C:\\\\Users\\\\USER\\\\Documents\\\\Big data\\\\data_set1.txt\")\n",
    "\n",
    "transactions = data.map(lambda line: line.strip().split(' '))\n",
    "model = FPGrowth.train(transactions, minSupport=0.02, numPartitions=10)\n",
    "result = model.freqItemsets().collect()\n",
    "for fi in result:\n",
    "    print(fi)"
   ]
  },
  {
   "cell_type": "code",
   "execution_count": 59,
   "metadata": {
    "collapsed": false
   },
   "outputs": [
    {
     "name": "stdout",
     "output_type": "stream",
     "text": [
      "FreqItemset(items=[u'Roti'], freq=5)\n",
      "FreqItemset(items=[u'NasiGoreng'], freq=3)\n",
      "FreqItemset(items=[u'NasiAyam'], freq=2)\n",
      "FreqItemset(items=[u'TidakMakan'], freq=2)\n",
      "FreqItemset(items=[u'buburAyam'], freq=1)\n",
      "FreqItemset(items=[u'NasiTempeTahu'], freq=1)\n",
      "FreqItemset(items=[u'MieGoreng'], freq=1)\n",
      "FreqItemset(items=[u'MieAyam'], freq=1)\n",
      "FreqItemset(items=[u'NasiBakar'], freq=1)\n",
      "FreqItemset(items=[u'Martabak'], freq=1)\n"
     ]
    }
   ],
   "source": [
    "#Dataset Fidi \n",
    "from pyspark.mllib.fpm import FPGrowth\n",
    "data = sc.textFile(\"C:\\\\Users\\\\USER\\\\Documents\\\\Big data\\\\data_set2.txt\")\n",
    "\n",
    "transactions = data.map(lambda line: line.strip().split(' '))\n",
    "model = FPGrowth.train(transactions, minSupport=0.02, numPartitions=10)\n",
    "result = model.freqItemsets().collect()\n",
    "for fi in result:\n",
    "    print(fi)"
   ]
  },
  {
   "cell_type": "code",
   "execution_count": null,
   "metadata": {
    "collapsed": true
   },
   "outputs": [],
   "source": []
  }
 ],
 "metadata": {
  "kernelspec": {
   "display_name": "Python 2",
   "language": "python",
   "name": "python2"
  },
  "language_info": {
   "codemirror_mode": {
    "name": "ipython",
    "version": 2
   },
   "file_extension": ".py",
   "mimetype": "text/x-python",
   "name": "python",
   "nbconvert_exporter": "python",
   "pygments_lexer": "ipython2",
   "version": "2.7.13"
  }
 },
 "nbformat": 4,
 "nbformat_minor": 2
}
