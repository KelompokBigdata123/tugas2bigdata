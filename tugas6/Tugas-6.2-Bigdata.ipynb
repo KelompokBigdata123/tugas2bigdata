{
 "cells": [
  {
   "cell_type": "code",
   "execution_count": 1,
   "metadata": {
    "collapsed": false
   },
   "outputs": [
    {
     "name": "stdout",
     "output_type": "stream",
     "text": [
      "<pyspark.context.SparkContext object at 0x000001ED0C38A828>\n"
     ]
    }
   ],
   "source": [
    "import os\n",
    "import sys\n",
    "\n",
    "# 1. Mengeset variabel yang menyimpan lokasi di mana Spark diinstal\n",
    "spark_path = \"H:/spark\"\n",
    "\n",
    "# 2. Menentukan environment variable SPARK_HOME\n",
    "os.environ['SPARK_HOME'] = spark_path\n",
    "\n",
    "# 3. Simpan lokasi winutils.exe sebagai environment variable HADOOP_HOME\n",
    "os.environ['HADOOP_HOME'] = spark_path\n",
    "\n",
    "# 4. Lokasi Python yang dijalankan --> punya Anaconda\n",
    "#    Apabila Python yang diinstall hanya Anaconda, maka tidak perlu menjalankan baris ini.\n",
    "os.environ['PYSPARK_PYTHON'] = sys.executable\n",
    "\n",
    "# 5. Konfigurasi path library PySpark\n",
    "sys.path.append(spark_path + \"/bin\")\n",
    "sys.path.append(spark_path + \"/python\")\n",
    "sys.path.append(spark_path + \"/python/pyspark/\")\n",
    "sys.path.append(spark_path + \"/python/lib\")\n",
    "sys.path.append(spark_path + \"/python/lib/pyspark.zip\")\n",
    "sys.path.append(spark_path + \"/python/lib/py4j-0.10.4-src.zip\")\n",
    "\n",
    "# 6. Import library Spark\n",
    "#    Dua library yang WAJIB di-import adalah **SparkContext** dan **SparkConf**.\n",
    "from pyspark import SparkContext\n",
    "from pyspark import SparkConf\n",
    "\n",
    "# Setting konfigurasi (opsional)\n",
    "conf = SparkConf()\n",
    "conf.set(\"spark.executor.memory\", \"2g\")\n",
    "conf.set(\"spark.cores.max\", \"4\")\n",
    "\n",
    "sc = SparkContext(\"local\", conf=conf)\n",
    "#    Apabila berhasil, maka ketika sc di-print akan mengeluarkan nilai <pyspark.context.SparkContext object>\n",
    "print (sc)"
   ]
  },
  {
   "cell_type": "code",
   "execution_count": 2,
   "metadata": {
    "collapsed": true
   },
   "outputs": [],
   "source": [
    "path_small_data_ratings = \"H:/spark/tugas-6-bigdata/ml-latest-small/ratings.csv\""
   ]
  },
  {
   "cell_type": "code",
   "execution_count": 4,
   "metadata": {
    "collapsed": false
   },
   "outputs": [],
   "source": [
    "small_data_ratings_raw = sc.textFile(path_small_data_ratings)\n",
    "small_data_ratings_raw_header = small_data_ratings_raw.take(1)[0]"
   ]
  },
  {
   "cell_type": "code",
   "execution_count": 5,
   "metadata": {
    "collapsed": true
   },
   "outputs": [],
   "source": [
    "small_data_ratings = small_data_ratings_raw.filter(lambda line: line!=small_data_ratings_raw_header).map(lambda line: line.split(\",\")).map(lambda tokens: (tokens[0],tokens[1],tokens[2])).cache()"
   ]
  },
  {
   "cell_type": "code",
   "execution_count": 6,
   "metadata": {
    "collapsed": false
   },
   "outputs": [
    {
     "data": {
      "text/plain": [
       "'userId,movieId,rating,timestamp'"
      ]
     },
     "execution_count": 6,
     "metadata": {},
     "output_type": "execute_result"
    }
   ],
   "source": [
    "small_data_ratings_raw_header"
   ]
  },
  {
   "cell_type": "code",
   "execution_count": 7,
   "metadata": {
    "collapsed": false
   },
   "outputs": [
    {
     "data": {
      "text/plain": [
       "H:/spark/tugas-6-bigdata/ml-latest-small/ratings.csv MapPartitionsRDD[4] at textFile at <unknown>:0"
      ]
     },
     "execution_count": 7,
     "metadata": {},
     "output_type": "execute_result"
    }
   ],
   "source": [
    "small_data_ratings_raw"
   ]
  },
  {
   "cell_type": "code",
   "execution_count": 8,
   "metadata": {
    "collapsed": false
   },
   "outputs": [
    {
     "data": {
      "text/plain": [
       "[('1', '31', '2.5'),\n",
       " ('1', '1029', '3.0'),\n",
       " ('1', '1061', '3.0'),\n",
       " ('1', '1129', '2.0'),\n",
       " ('1', '1172', '4.0'),\n",
       " ('1', '1263', '2.0'),\n",
       " ('1', '1287', '2.0'),\n",
       " ('1', '1293', '2.0'),\n",
       " ('1', '1339', '3.5'),\n",
       " ('1', '1343', '2.0')]"
      ]
     },
     "execution_count": 8,
     "metadata": {},
     "output_type": "execute_result"
    }
   ],
   "source": [
    "small_data_ratings.take(10)"
   ]
  },
  {
   "cell_type": "code",
   "execution_count": 9,
   "metadata": {
    "collapsed": false
   },
   "outputs": [
    {
     "data": {
      "text/plain": [
       "100004"
      ]
     },
     "execution_count": 9,
     "metadata": {},
     "output_type": "execute_result"
    }
   ],
   "source": [
    "small_data_ratings.count()"
   ]
  },
  {
   "cell_type": "code",
   "execution_count": 10,
   "metadata": {
    "collapsed": true
   },
   "outputs": [],
   "source": [
    "path_small_data_movies = \"H:/spark/tugas-6-bigdata/ml-latest-small/movies.csv\""
   ]
  },
  {
   "cell_type": "code",
   "execution_count": 11,
   "metadata": {
    "collapsed": true
   },
   "outputs": [],
   "source": [
    "small_data_movies_raw = sc.textFile(path_small_data_movies)\n",
    "small_data_movies_raw_header = small_data_movies_raw.take(1)[0]"
   ]
  },
  {
   "cell_type": "code",
   "execution_count": 12,
   "metadata": {
    "collapsed": true
   },
   "outputs": [],
   "source": [
    "small_data_movies = small_data_movies_raw.filter(lambda line: line!=small_data_movies_raw_header).map(lambda line: line.split(\",\")).map(lambda tokens: (tokens[0],tokens[1],tokens[2])).cache()"
   ]
  },
  {
   "cell_type": "code",
   "execution_count": 13,
   "metadata": {
    "collapsed": false
   },
   "outputs": [
    {
     "data": {
      "text/plain": [
       "'movieId,title,genres'"
      ]
     },
     "execution_count": 13,
     "metadata": {},
     "output_type": "execute_result"
    }
   ],
   "source": [
    "small_data_movies_raw_header"
   ]
  },
  {
   "cell_type": "code",
   "execution_count": 14,
   "metadata": {
    "collapsed": false
   },
   "outputs": [
    {
     "data": {
      "text/plain": [
       "[('1', 'Toy Story (1995)', 'Adventure|Animation|Children|Comedy|Fantasy'),\n",
       " ('2', 'Jumanji (1995)', 'Adventure|Children|Fantasy'),\n",
       " ('3', 'Grumpier Old Men (1995)', 'Comedy|Romance'),\n",
       " ('4', 'Waiting to Exhale (1995)', 'Comedy|Drama|Romance'),\n",
       " ('5', 'Father of the Bride Part II (1995)', 'Comedy'),\n",
       " ('6', 'Heat (1995)', 'Action|Crime|Thriller'),\n",
       " ('7', 'Sabrina (1995)', 'Comedy|Romance'),\n",
       " ('8', 'Tom and Huck (1995)', 'Adventure|Children'),\n",
       " ('9', 'Sudden Death (1995)', 'Action'),\n",
       " ('10', 'GoldenEye (1995)', 'Action|Adventure|Thriller'),\n",
       " ('11', '\"American President', ' The (1995)\"'),\n",
       " ('12', 'Dracula: Dead and Loving It (1995)', 'Comedy|Horror'),\n",
       " ('13', 'Balto (1995)', 'Adventure|Animation|Children'),\n",
       " ('14', 'Nixon (1995)', 'Drama'),\n",
       " ('15', 'Cutthroat Island (1995)', 'Action|Adventure|Romance')]"
      ]
     },
     "execution_count": 14,
     "metadata": {},
     "output_type": "execute_result"
    }
   ],
   "source": [
    "small_data_movies.take(15)"
   ]
  },
  {
   "cell_type": "code",
   "execution_count": 15,
   "metadata": {
    "collapsed": false,
    "scrolled": true
   },
   "outputs": [
    {
     "data": {
      "text/plain": [
       "9125"
      ]
     },
     "execution_count": 15,
     "metadata": {},
     "output_type": "execute_result"
    }
   ],
   "source": [
    "small_data_movies.count()"
   ]
  },
  {
   "cell_type": "code",
   "execution_count": 16,
   "metadata": {
    "collapsed": false
   },
   "outputs": [],
   "source": [
    "training_RDD, validation_RDD, test_RDD = small_data_ratings.randomSplit([6, 2, 2], seed=0)\n",
    "\n",
    "validation_for_predict_RDD = validation_RDD.map(lambda x: (x[0], x[1]))\n",
    "test_for_predict_RDD = test_RDD.map(lambda x: (x[0], x[1]))"
   ]
  },
  {
   "cell_type": "code",
   "execution_count": 17,
   "metadata": {
    "collapsed": false
   },
   "outputs": [
    {
     "name": "stdout",
     "output_type": "stream",
     "text": [
      "100004\n"
     ]
    }
   ],
   "source": [
    "numRatings = small_data_ratings.distinct().count()\n",
    "print (numRatings)"
   ]
  },
  {
   "cell_type": "code",
   "execution_count": 18,
   "metadata": {
    "collapsed": false
   },
   "outputs": [
    {
     "name": "stdout",
     "output_type": "stream",
     "text": [
      "9125\n"
     ]
    }
   ],
   "source": [
    "numMovies = small_data_movies.distinct().count()\n",
    "print (numMovies)"
   ]
  },
  {
   "cell_type": "code",
   "execution_count": 19,
   "metadata": {
    "collapsed": true
   },
   "outputs": [],
   "source": [
    "from pyspark.mllib.recommendation import ALS\n",
    "import math"
   ]
  },
  {
   "cell_type": "code",
   "execution_count": 20,
   "metadata": {
    "collapsed": false
   },
   "outputs": [
    {
     "name": "stdout",
     "output_type": "stream",
     "text": [
      "For rank 4 the RMSE is 0.9467276356834381\n",
      "For rank 8 the RMSE is 0.948850568384866\n",
      "For rank 12 the RMSE is 0.9470522227861955\n",
      "The best model was trained with rank 4\n",
      "Total rank is 3\n"
     ]
    }
   ],
   "source": [
    "seed = 5\n",
    "iterations = 5\n",
    "lambda_ = 0.1\n",
    "ranks = [4, 8, 12]\n",
    "errors = [0, 0, 0]\n",
    "err = 0\n",
    "tolerance = 0.02\n",
    "min_error = float('inf')\n",
    "best_rank = -1\n",
    "best_iteration = -1\n",
    "\n",
    "tmp_rank=0\n",
    "\n",
    "for rank in ranks:\n",
    "    model = ALS.train(training_RDD, rank, seed=seed, iterations=iterations, lambda_=lambda_)\n",
    "    \n",
    "    #validation_for_predict_RDD\n",
    "    predictions = model.predictAll(validation_for_predict_RDD).map(lambda r: ((r[0], r[1]), r[2]))\n",
    "    rates_and_preds = validation_RDD.map(lambda r: ((int(r[0]), int(r[1])), float(r[2]))).join(predictions)\n",
    "    error = math.sqrt(rates_and_preds.map(lambda r: (r[1][0] - r[1][1])**2).mean())\n",
    "    errors[err] = error\n",
    "    err += 1\n",
    "    \n",
    "    print (\"For rank %s the RMSE is %s\" % (rank, error))\n",
    "    \n",
    "    if error < min_error:\n",
    "        min_error = error\n",
    "        best_rank = rank\n",
    "        \n",
    "    tmp_rank += 1\n",
    "\n",
    "print (\"The best model was trained with rank %s\" % best_rank)\n",
    "print (\"Total rank is %s\" % tmp_rank)"
   ]
  },
  {
   "cell_type": "code",
   "execution_count": 21,
   "metadata": {
    "collapsed": false
   },
   "outputs": [
    {
     "data": {
      "text/plain": [
       "[((390, 667), 3.6298103088435294),\n",
       " ((48, 44828), 0.35637136257127566),\n",
       " ((428, 5618), 4.430292353094585),\n",
       " ((450, 5618), 4.567901218327973),\n",
       " ((429, 5618), 1.2551725562710176),\n",
       " ((664, 5618), 4.112759026391471),\n",
       " ((397, 5618), 4.1376866926941736),\n",
       " ((430, 5618), 4.844480482206358),\n",
       " ((73, 5618), 4.042735515184425),\n",
       " ((406, 5618), 3.865122428612649)]"
      ]
     },
     "execution_count": 21,
     "metadata": {},
     "output_type": "execute_result"
    }
   ],
   "source": [
    "predictions.take(10)"
   ]
  },
  {
   "cell_type": "code",
   "execution_count": 22,
   "metadata": {
    "collapsed": false
   },
   "outputs": [
    {
     "data": {
      "text/plain": [
       "[((1, 1061), (3.0, 2.5641919094461265)),\n",
       " ((1, 1129), (2.0, 2.44966942915915)),\n",
       " ((1, 1371), (2.5, 1.9937138050408498)),\n",
       " ((1, 1953), (4.0, 3.382927786980675)),\n",
       " ((2, 52), (3.0, 3.465618061823249)),\n",
       " ((2, 144), (3.0, 3.307158969229371)),\n",
       " ((2, 370), (2.0, 2.8206703133557394)),\n",
       " ((2, 382), (3.0, 2.787520973977276)),\n",
       " ((2, 550), (3.0, 3.1737969760165683)),\n",
       " ((2, 720), (4.0, 3.8117535046759072))]"
      ]
     },
     "execution_count": 22,
     "metadata": {},
     "output_type": "execute_result"
    }
   ],
   "source": [
    "rates_and_preds.take(10)"
   ]
  },
  {
   "cell_type": "code",
   "execution_count": 23,
   "metadata": {
    "collapsed": false
   },
   "outputs": [
    {
     "data": {
      "text/plain": [
       "18877"
      ]
     },
     "execution_count": 23,
     "metadata": {},
     "output_type": "execute_result"
    }
   ],
   "source": [
    "rates_and_preds.count()"
   ]
  },
  {
   "cell_type": "code",
   "execution_count": 24,
   "metadata": {
    "collapsed": false
   },
   "outputs": [
    {
     "name": "stdout",
     "output_type": "stream",
     "text": [
      "Best Rank is 4\n",
      "For testing data the RMSE is 0.9470522227861955\n"
     ]
    }
   ],
   "source": [
    "print (\"Best Rank is %s\" % best_rank)\n",
    "\n",
    "model = ALS.train(training_RDD, best_rank, seed=seed, iterations=iterations, lambda_=lambda_)\n",
    "\n",
    "predictions_best_rank = model.predictAll(test_for_predict_RDD).map(lambda r: ((r[0], r[1]), r[2]))\n",
    "rates_and_preds_best_rank = test_RDD.map(lambda r: ((int(r[0]), int(r[1])), float(r[2]))).join(predictions)\n",
    "error_best_rank = math.sqrt(rates_and_preds.map(lambda r: (r[1][0] - r[1][1])**2).mean())\n",
    "    \n",
    "print (\"For testing data the RMSE is %s\" % (error_best_rank))"
   ]
  },
  {
   "cell_type": "code",
   "execution_count": 25,
   "metadata": {
    "collapsed": true
   },
   "outputs": [],
   "source": [
    "path_all_data_ratings = \"H:/spark/tugas-6-bigdata/ml-latest-all/ratings.csv\""
   ]
  },
  {
   "cell_type": "code",
   "execution_count": 26,
   "metadata": {
    "collapsed": false
   },
   "outputs": [],
   "source": [
    "all_data_ratings_raw = sc.textFile(path_all_data_ratings)\n",
    "all_data_ratings_raw_header = all_data_ratings_raw.take(1)[0]"
   ]
  },
  {
   "cell_type": "code",
   "execution_count": 27,
   "metadata": {
    "collapsed": true
   },
   "outputs": [],
   "source": [
    "all_data_ratings = all_data_ratings_raw.filter(lambda line: line!=all_data_ratings_raw_header).map(lambda line: line.split(\",\")).map(lambda tokens: (int(tokens[0]),int(tokens[1]),float(tokens[2]))).cache()"
   ]
  },
  {
   "cell_type": "code",
   "execution_count": 28,
   "metadata": {
    "collapsed": true
   },
   "outputs": [],
   "source": [
    "training_RDD, test_RDD = all_data_ratings.randomSplit([7, 3], seed=0)\n",
    "\n",
    "all_model = ALS.train(training_RDD, best_rank, seed=seed, iterations=iterations, lambda_=lambda_)"
   ]
  },
  {
   "cell_type": "code",
   "execution_count": 29,
   "metadata": {
    "collapsed": false
   },
   "outputs": [
    {
     "name": "stdout",
     "output_type": "stream",
     "text": [
      "For testing data the RMSE is 0.8353251300966041\n"
     ]
    }
   ],
   "source": [
    "test_for_predict_RDD = test_RDD.map(lambda x: (x[0], x[1]))\n",
    "\n",
    "predictions_all = all_model.predictAll(test_for_predict_RDD).map(lambda r: ((r[0], r[1]), r[2]))\n",
    "rates_and_preds_all = test_RDD.map(lambda r: ((int(r[0]), int(r[1])), float(r[2]))).join(predictions_all)\n",
    "error_all = math.sqrt(rates_and_preds_all.map(lambda r: (r[1][0] - r[1][1])**2).mean())\n",
    "    \n",
    "print (\"For testing data the RMSE is %s\" % (error_all))"
   ]
  },
  {
   "cell_type": "code",
   "execution_count": 32,
   "metadata": {
    "collapsed": true
   },
   "outputs": [],
   "source": [
    "path_all_data_movies = \"H:/spark/tugas-6-bigdata/ml-latest-all/movies.csv\""
   ]
  },
  {
   "cell_type": "code",
   "execution_count": 33,
   "metadata": {
    "collapsed": false
   },
   "outputs": [],
   "source": [
    "all_data_movies_raw = sc.textFile(path_all_data_movies)\n",
    "all_data_movies_raw_header = all_data_movies_raw.take(1)[0]"
   ]
  },
  {
   "cell_type": "code",
   "execution_count": 34,
   "metadata": {
    "collapsed": true
   },
   "outputs": [],
   "source": [
    "all_movies_data = all_data_movies_raw.filter(lambda line: line!=all_data_movies_raw_header).map(lambda line: line.split(\",\")).map(lambda tokens: (int(tokens[0]),tokens[1],tokens[2])).cache()"
   ]
  },
  {
   "cell_type": "code",
   "execution_count": 35,
   "metadata": {
    "collapsed": true
   },
   "outputs": [],
   "source": [
    "complete_movies_titles = all_movies_data.map(lambda x: (int(x[0]),x[1]))"
   ]
  },
  {
   "cell_type": "code",
   "execution_count": 36,
   "metadata": {
    "collapsed": false
   },
   "outputs": [
    {
     "data": {
      "text/plain": [
       "40110"
      ]
     },
     "execution_count": 36,
     "metadata": {},
     "output_type": "execute_result"
    }
   ],
   "source": [
    "complete_movies_titles.count()"
   ]
  },
  {
   "cell_type": "code",
   "execution_count": 37,
   "metadata": {
    "collapsed": false
   },
   "outputs": [
    {
     "data": {
      "text/plain": [
       "40110"
      ]
     },
     "execution_count": 37,
     "metadata": {},
     "output_type": "execute_result"
    }
   ],
   "source": [
    "all_movies_data.count()"
   ]
  },
  {
   "cell_type": "code",
   "execution_count": 38,
   "metadata": {
    "collapsed": true
   },
   "outputs": [],
   "source": [
    "def counts_averages(ID_and_ratings_tuple):\n",
    "    nratings = len(ID_and_ratings_tuple[1])\n",
    "    return ID_and_ratings_tuple[0], (nratings, float(sum(x for x in ID_and_ratings_tuple[1]))/nratings)\n",
    "\n",
    "movie_ID_with_ratings_RDD = (all_data_ratings.map(lambda x: (x[1], x[2])).groupByKey())\n",
    "movie_ID_with_avg_ratings_RDD = movie_ID_with_ratings_RDD.map(counts_averages)\n",
    "movie_rating_counts_RDD = movie_ID_with_avg_ratings_RDD.map(lambda x: (x[0], x[1][0]))"
   ]
  },
  {
   "cell_type": "code",
   "execution_count": 39,
   "metadata": {
    "collapsed": false
   },
   "outputs": [
    {
     "name": "stdout",
     "output_type": "stream",
     "text": [
      "New user ratings: [(0, 260, 4), (0, 1, 3), (0, 16, 3), (0, 25, 4), (0, 32, 4), (0, 335, 1), (0, 379, 1), (0, 296, 3), (0, 858, 5), (0, 50, 4)]\n"
     ]
    }
   ],
   "source": [
    "new_user_ID = 0\n",
    "\n",
    "# The format of each line is (userID, movieID, rating)\n",
    "new_user_ratings = [(0,260,4), (0,1,3), (0,16,3), (0,25,4), (0,32,4), (0,335,1), (0,379,1), (0,296,3), (0,858,5), (0,50,4)]\n",
    "\n",
    "new_user_ratings_RDD = sc.parallelize(new_user_ratings)\n",
    "print (\"New user ratings: %s\" % new_user_ratings_RDD.take(10))"
   ]
  },
  {
   "cell_type": "code",
   "execution_count": 40,
   "metadata": {
    "collapsed": true
   },
   "outputs": [],
   "source": [
    "complete_data_with_new_ratings_RDD = small_data_ratings.union(new_user_ratings_RDD)"
   ]
  },
  {
   "cell_type": "code",
   "execution_count": 41,
   "metadata": {
    "collapsed": false
   },
   "outputs": [
    {
     "name": "stdout",
     "output_type": "stream",
     "text": [
      "New model trained in 7.54 seconds\n"
     ]
    }
   ],
   "source": [
    "#new trainning ALS\n",
    "from time import time\n",
    "\n",
    "t0 = time()\n",
    "new_ratings_model = ALS.train(complete_data_with_new_ratings_RDD, best_rank, seed=seed, iterations=iterations, lambda_=lambda_)\n",
    "tt = time() - t0\n",
    "\n",
    "print (\"New model trained in %s seconds\" % round(tt,3))"
   ]
  },
  {
   "cell_type": "code",
   "execution_count": 42,
   "metadata": {
    "collapsed": true
   },
   "outputs": [],
   "source": [
    "new_user_ratings_ids = map(lambda x: x[1], new_user_ratings)\n",
    "\n",
    "new_user_unrated_movies_RDD = (all_movies_data.filter(lambda x: x[0] not in new_user_ratings_ids).map(lambda x: (new_user_ID, x[0])))\n",
    "new_user_recommendations_RDD = new_ratings_model.predictAll(new_user_unrated_movies_RDD)"
   ]
  },
  {
   "cell_type": "code",
   "execution_count": 43,
   "metadata": {
    "collapsed": false
   },
   "outputs": [
    {
     "data": {
      "text/plain": [
       "[(138204, ((2.228243072597687, '7 Days in Hell (2015)'), 97)),\n",
       " (5874, ((1.605582397858254, 'Friday After Next (2002)'), 444)),\n",
       " (48268, ((3.7163477948685513, 'Empire Falls (2005)'), 29)),\n",
       " (65230, ((1.469555228369149, 'Marley & Me (2008)'), 1504)),\n",
       " (2640, ((2.4898372718269703, 'Superman (1978)'), 16903)),\n",
       " (6446, ((2.5502693956504086, '\"Comancheros'), 126)),\n",
       " (81158, ((2.1625232510538206, 'Restrepo (2010)'), 398)),\n",
       " (2134, ((2.262294179484031, 'Weird Science (1985)'), 6604)),\n",
       " (2354, ((2.390420884508978, '\"Rugrats Movie'), 1479)),\n",
       " (1078, ((3.7702241434521655, 'Bananas (1971)'), 3819))]"
      ]
     },
     "execution_count": 43,
     "metadata": {},
     "output_type": "execute_result"
    }
   ],
   "source": [
    "new_user_recommendations_rating_RDD = new_user_recommendations_RDD.map(lambda x: (x.product, x.rating))\n",
    "new_user_recommendations_rating_title_and_count_RDD = new_user_recommendations_rating_RDD.join(complete_movies_titles).join(movie_rating_counts_RDD)\n",
    "\n",
    "new_user_recommendations_rating_title_and_count_RDD.take(10)"
   ]
  },
  {
   "cell_type": "code",
   "execution_count": 44,
   "metadata": {
    "collapsed": true
   },
   "outputs": [],
   "source": [
    "new_user_recommendations_rating_title_and_count_RDD = new_user_recommendations_rating_title_and_count_RDD.map(lambda r: (r[1][0][1], r[1][0][0], r[1][1]))"
   ]
  },
  {
   "cell_type": "code",
   "execution_count": 47,
   "metadata": {
    "collapsed": false
   },
   "outputs": [
    {
     "name": "stdout",
     "output_type": "stream",
     "text": [
      "TOP TEN (10) recommended movies:\n",
      "\n",
      "1 ('\"Vampyros Lesbos (Vampiras', 5.599213491210403, 130)\n",
      "\n",
      "2 ('Dylan Moran: Monster (2004)', 5.599213491210403, 107)\n",
      "\n",
      "3 ('\"Play House', 5.352672287404715, 32)\n",
      "\n",
      "4 ('\"Goat', 5.352672287404715, 27)\n",
      "\n",
      "5 ('Land of Silence and Darkness (Land des Schweigens und der Dunkelheit) (1971)', 5.352672287404715, 37)\n",
      "\n",
      "6 ('Cops (1922)', 5.352672287404715, 41)\n",
      "\n",
      "7 (\"Dead Man's Shoes (2004)\", 5.319174228669035, 517)\n",
      "\n",
      "8 ('Excision (2012)', 5.303345348721313, 98)\n",
      "\n",
      "9 ('Gates of Heaven (1978)', 4.8174051036647185, 182)\n",
      "\n",
      "10 ('\"Cameraman', 4.8174051036647185, 187)\n",
      "\n"
     ]
    }
   ],
   "source": [
    "top_movies = new_user_recommendations_rating_title_and_count_RDD.filter(lambda r: r[2]>=10).takeOrdered(10, key=lambda x: -x[1])\n",
    "\n",
    "dom = list(map(str,[str(result_x) for result_x in top_movies]))\n",
    "# print dom\n",
    "\n",
    "print (\"TOP TEN (10) recommended movies:\\n\")\n",
    "p=0\n",
    "no=1\n",
    "for i in range(0, len(top_movies)):\n",
    "    print (no, \"%s\\n\" % dom[p])\n",
    "    \n",
    "    no+=1\n",
    "    p+=1"
   ]
  },
  {
   "cell_type": "code",
   "execution_count": 48,
   "metadata": {
    "collapsed": false
   },
   "outputs": [
    {
     "data": {
      "text/plain": [
       "9065"
      ]
     },
     "execution_count": 48,
     "metadata": {},
     "output_type": "execute_result"
    }
   ],
   "source": [
    "new_user_recommendations_rating_title_and_count_RDD.count()"
   ]
  },
  {
   "cell_type": "code",
   "execution_count": null,
   "metadata": {
    "collapsed": true
   },
   "outputs": [],
   "source": []
  }
 ],
 "metadata": {
  "kernelspec": {
   "display_name": "Python 3",
   "language": "python",
   "name": "python3"
  },
  "language_info": {
   "codemirror_mode": {
    "name": "ipython",
    "version": 3
   },
   "file_extension": ".py",
   "mimetype": "text/x-python",
   "name": "python",
   "nbconvert_exporter": "python",
   "pygments_lexer": "ipython3",
   "version": "3.6.0"
  }
 },
 "nbformat": 4,
 "nbformat_minor": 2
}
